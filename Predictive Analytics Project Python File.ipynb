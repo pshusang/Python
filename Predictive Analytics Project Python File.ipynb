{
 "cells": [
  {
   "cell_type": "markdown",
   "metadata": {},
   "source": [
    "# <font color=\"#0000E0\">K513 Final Project - Will a Product Sell Well in Wish</font>"
   ]
  },
  {
   "cell_type": "code",
   "execution_count": 1,
   "metadata": {},
   "outputs": [
    {
     "data": {
      "text/html": [
       "<style>.container { width:100% !important; }</style>"
      ],
      "text/plain": [
       "<IPython.core.display.HTML object>"
      ]
     },
     "metadata": {},
     "output_type": "display_data"
    }
   ],
   "source": [
    "from IPython.core.display import display, HTML\n",
    "display(HTML(\"<style>.container { width:100% !important; }</style>\"))\n",
    "\n",
    "import numpy as np\n",
    "import pandas as pd\n",
    "import matplotlib.pyplot as plt\n",
    "import seaborn as sns\n",
    "import datetime\n",
    "from sklearn.linear_model import LinearRegression\n",
    "# Data transformers\n",
    "from sklearn.preprocessing import LabelEncoder, StandardScaler\n",
    "\n",
    "# Data Partitioning\n",
    "from sklearn.model_selection import train_test_split\n",
    "\n",
    "# Add polynomial features\n",
    "from sklearn.preprocessing import PolynomialFeatures\n",
    "\n",
    "# Learning models\n",
    "from sklearn.linear_model import LinearRegression, Ridge, Lasso, LogisticRegression\n",
    "from sklearn.neighbors import KNeighborsClassifier, KNeighborsRegressor\n",
    "from sklearn.tree import DecisionTreeClassifier, DecisionTreeRegressor, plot_tree\n",
    "\n",
    "# Performance metrics\n",
    "from sklearn.metrics import confusion_matrix, roc_auc_score, classification_report, precision_recall_curve, roc_curve, auc"
   ]
  },
  {
   "cell_type": "markdown",
   "metadata": {},
   "source": [
    "## <font color=\"#0000E0\">Part 1 Exploratory Data Analysis (EDA) and Prepare Data</font>"
   ]
  },
  {
   "cell_type": "markdown",
   "metadata": {},
   "source": [
    "### Import data and understand data"
   ]
  },
  {
   "cell_type": "code",
   "execution_count": 2,
   "metadata": {},
   "outputs": [
    {
     "data": {
      "text/html": [
       "<style>.container { width:100% !important; }</style>"
      ],
      "text/plain": [
       "<IPython.core.display.HTML object>"
      ]
     },
     "metadata": {},
     "output_type": "display_data"
    }
   ],
   "source": [
    "from IPython.core.display import display, HTML\n",
    "display(HTML(\"<style>.container { width:100% !important; }</style>\"))\n",
    "\n",
    "import numpy as np\n",
    "import pandas as pd\n",
    "import matplotlib.pyplot as plt\n",
    "import seaborn as sns\n",
    "import datetime\n",
    "np.set_printoptions(suppress=True, linewidth=200, edgeitems=100)"
   ]
  },
  {
   "cell_type": "code",
   "execution_count": 3,
   "metadata": {},
   "outputs": [
    {
     "data": {
      "text/html": [
       "<div>\n",
       "<style scoped>\n",
       "    .dataframe tbody tr th:only-of-type {\n",
       "        vertical-align: middle;\n",
       "    }\n",
       "\n",
       "    .dataframe tbody tr th {\n",
       "        vertical-align: top;\n",
       "    }\n",
       "\n",
       "    .dataframe thead th {\n",
       "        text-align: right;\n",
       "    }\n",
       "</style>\n",
       "<table border=\"1\" class=\"dataframe\">\n",
       "  <thead>\n",
       "    <tr style=\"text-align: right;\">\n",
       "      <th></th>\n",
       "      <th>title</th>\n",
       "      <th>price</th>\n",
       "      <th>retail_price</th>\n",
       "      <th>currency</th>\n",
       "      <th>units_sold</th>\n",
       "      <th>uses_ad_boosts</th>\n",
       "      <th>rating</th>\n",
       "      <th>rating_count</th>\n",
       "      <th>rating_five_count</th>\n",
       "      <th>rating_four_count</th>\n",
       "      <th>...</th>\n",
       "      <th>merchant_name</th>\n",
       "      <th>merchant_info_subtitle</th>\n",
       "      <th>merchant_rating_count</th>\n",
       "      <th>merchant_rating</th>\n",
       "      <th>merchant_id</th>\n",
       "      <th>merchant_has_profile_picture</th>\n",
       "      <th>product_url</th>\n",
       "      <th>product_picture</th>\n",
       "      <th>product_id</th>\n",
       "      <th>theme</th>\n",
       "    </tr>\n",
       "  </thead>\n",
       "  <tbody>\n",
       "    <tr>\n",
       "      <th>0</th>\n",
       "      <td>2020 Summer Vintage Flamingo Print  Pajamas Se...</td>\n",
       "      <td>16.00</td>\n",
       "      <td>14</td>\n",
       "      <td>EUR</td>\n",
       "      <td>100</td>\n",
       "      <td>0</td>\n",
       "      <td>3.76</td>\n",
       "      <td>54</td>\n",
       "      <td>26.0</td>\n",
       "      <td>8.0</td>\n",
       "      <td>...</td>\n",
       "      <td>zgrdejia</td>\n",
       "      <td>(568 notes)</td>\n",
       "      <td>568</td>\n",
       "      <td>4.128521</td>\n",
       "      <td>595097d6a26f6e070cb878d1</td>\n",
       "      <td>0</td>\n",
       "      <td>https://www.wish.com/c/5e9ae51d43d6a96e303acdb0</td>\n",
       "      <td>https://contestimg.wish.com/api/webimage/5e9ae...</td>\n",
       "      <td>5e9ae51d43d6a96e303acdb0</td>\n",
       "      <td>summer</td>\n",
       "    </tr>\n",
       "    <tr>\n",
       "      <th>1</th>\n",
       "      <td>Women's Casual Summer Sleeveless Sexy Mini Dress</td>\n",
       "      <td>8.00</td>\n",
       "      <td>22</td>\n",
       "      <td>EUR</td>\n",
       "      <td>20000</td>\n",
       "      <td>1</td>\n",
       "      <td>3.45</td>\n",
       "      <td>6135</td>\n",
       "      <td>2269.0</td>\n",
       "      <td>1027.0</td>\n",
       "      <td>...</td>\n",
       "      <td>sarahouse</td>\n",
       "      <td>83 % avis positifs (17,752 notes)</td>\n",
       "      <td>17752</td>\n",
       "      <td>3.899673</td>\n",
       "      <td>56458aa03a698c35c9050988</td>\n",
       "      <td>0</td>\n",
       "      <td>https://www.wish.com/c/58940d436a0d3d5da4e95a38</td>\n",
       "      <td>https://contestimg.wish.com/api/webimage/58940...</td>\n",
       "      <td>58940d436a0d3d5da4e95a38</td>\n",
       "      <td>summer</td>\n",
       "    </tr>\n",
       "    <tr>\n",
       "      <th>2</th>\n",
       "      <td>2020 New Arrival Women Spring and Summer Beach...</td>\n",
       "      <td>8.00</td>\n",
       "      <td>43</td>\n",
       "      <td>EUR</td>\n",
       "      <td>100</td>\n",
       "      <td>0</td>\n",
       "      <td>3.57</td>\n",
       "      <td>14</td>\n",
       "      <td>5.0</td>\n",
       "      <td>4.0</td>\n",
       "      <td>...</td>\n",
       "      <td>hxt520</td>\n",
       "      <td>86 % avis positifs (295 notes)</td>\n",
       "      <td>295</td>\n",
       "      <td>3.989831</td>\n",
       "      <td>5d464a1ffdf7bc44ee933c65</td>\n",
       "      <td>0</td>\n",
       "      <td>https://www.wish.com/c/5ea10e2c617580260d55310a</td>\n",
       "      <td>https://contestimg.wish.com/api/webimage/5ea10...</td>\n",
       "      <td>5ea10e2c617580260d55310a</td>\n",
       "      <td>summer</td>\n",
       "    </tr>\n",
       "    <tr>\n",
       "      <th>3</th>\n",
       "      <td>Hot Summer Cool T Shirt for Women Fashion Tops...</td>\n",
       "      <td>8.00</td>\n",
       "      <td>8</td>\n",
       "      <td>EUR</td>\n",
       "      <td>5000</td>\n",
       "      <td>1</td>\n",
       "      <td>4.03</td>\n",
       "      <td>579</td>\n",
       "      <td>295.0</td>\n",
       "      <td>119.0</td>\n",
       "      <td>...</td>\n",
       "      <td>allenfan</td>\n",
       "      <td>(23,832 notes)</td>\n",
       "      <td>23832</td>\n",
       "      <td>4.020435</td>\n",
       "      <td>58cfdefdacb37b556efdff7c</td>\n",
       "      <td>0</td>\n",
       "      <td>https://www.wish.com/c/5cedf17ad1d44c52c59e4aca</td>\n",
       "      <td>https://contestimg.wish.com/api/webimage/5cedf...</td>\n",
       "      <td>5cedf17ad1d44c52c59e4aca</td>\n",
       "      <td>summer</td>\n",
       "    </tr>\n",
       "    <tr>\n",
       "      <th>4</th>\n",
       "      <td>Women Summer Shorts Lace Up Elastic Waistband ...</td>\n",
       "      <td>2.72</td>\n",
       "      <td>3</td>\n",
       "      <td>EUR</td>\n",
       "      <td>100</td>\n",
       "      <td>1</td>\n",
       "      <td>3.10</td>\n",
       "      <td>20</td>\n",
       "      <td>6.0</td>\n",
       "      <td>4.0</td>\n",
       "      <td>...</td>\n",
       "      <td>happyhorses</td>\n",
       "      <td>85 % avis positifs (14,482 notes)</td>\n",
       "      <td>14482</td>\n",
       "      <td>4.001588</td>\n",
       "      <td>5ab3b592c3911a095ad5dadb</td>\n",
       "      <td>0</td>\n",
       "      <td>https://www.wish.com/c/5ebf5819ebac372b070b0e70</td>\n",
       "      <td>https://contestimg.wish.com/api/webimage/5ebf5...</td>\n",
       "      <td>5ebf5819ebac372b070b0e70</td>\n",
       "      <td>summer</td>\n",
       "    </tr>\n",
       "    <tr>\n",
       "      <th>...</th>\n",
       "      <td>...</td>\n",
       "      <td>...</td>\n",
       "      <td>...</td>\n",
       "      <td>...</td>\n",
       "      <td>...</td>\n",
       "      <td>...</td>\n",
       "      <td>...</td>\n",
       "      <td>...</td>\n",
       "      <td>...</td>\n",
       "      <td>...</td>\n",
       "      <td>...</td>\n",
       "      <td>...</td>\n",
       "      <td>...</td>\n",
       "      <td>...</td>\n",
       "      <td>...</td>\n",
       "      <td>...</td>\n",
       "      <td>...</td>\n",
       "      <td>...</td>\n",
       "      <td>...</td>\n",
       "      <td>...</td>\n",
       "      <td>...</td>\n",
       "    </tr>\n",
       "    <tr>\n",
       "      <th>1568</th>\n",
       "      <td>New Fashion Women Bohemia Dandelion Print Tee ...</td>\n",
       "      <td>6.00</td>\n",
       "      <td>9</td>\n",
       "      <td>EUR</td>\n",
       "      <td>10000</td>\n",
       "      <td>1</td>\n",
       "      <td>4.08</td>\n",
       "      <td>1367</td>\n",
       "      <td>722.0</td>\n",
       "      <td>293.0</td>\n",
       "      <td>...</td>\n",
       "      <td>cxuelin99126</td>\n",
       "      <td>90 % avis positifs (5,316 notes)</td>\n",
       "      <td>5316</td>\n",
       "      <td>4.224605</td>\n",
       "      <td>5b507899ab577736508a0782</td>\n",
       "      <td>0</td>\n",
       "      <td>https://www.wish.com/c/5d5fadc99febd9356cbc52ee</td>\n",
       "      <td>https://contestimg.wish.com/api/webimage/5d5fa...</td>\n",
       "      <td>5d5fadc99febd9356cbc52ee</td>\n",
       "      <td>summer</td>\n",
       "    </tr>\n",
       "    <tr>\n",
       "      <th>1569</th>\n",
       "      <td>10 Color Women Summer Shorts Lace Up Elastic W...</td>\n",
       "      <td>2.00</td>\n",
       "      <td>56</td>\n",
       "      <td>EUR</td>\n",
       "      <td>100</td>\n",
       "      <td>1</td>\n",
       "      <td>3.07</td>\n",
       "      <td>28</td>\n",
       "      <td>11.0</td>\n",
       "      <td>3.0</td>\n",
       "      <td>...</td>\n",
       "      <td>sellbestqualitygoods</td>\n",
       "      <td>(4,435 notes)</td>\n",
       "      <td>4435</td>\n",
       "      <td>3.696054</td>\n",
       "      <td>54d83b6b6b8a771e478558de</td>\n",
       "      <td>0</td>\n",
       "      <td>https://www.wish.com/c/5eccd22b4497b86fd48f16b4</td>\n",
       "      <td>https://contestimg.wish.com/api/webimage/5eccd...</td>\n",
       "      <td>5eccd22b4497b86fd48f16b4</td>\n",
       "      <td>summer</td>\n",
       "    </tr>\n",
       "    <tr>\n",
       "      <th>1570</th>\n",
       "      <td>New Men Siwmwear Beach-Shorts Men Summer Quick...</td>\n",
       "      <td>5.00</td>\n",
       "      <td>19</td>\n",
       "      <td>EUR</td>\n",
       "      <td>100</td>\n",
       "      <td>0</td>\n",
       "      <td>3.71</td>\n",
       "      <td>59</td>\n",
       "      <td>24.0</td>\n",
       "      <td>15.0</td>\n",
       "      <td>...</td>\n",
       "      <td>shixueying</td>\n",
       "      <td>86 % avis positifs (210 notes)</td>\n",
       "      <td>210</td>\n",
       "      <td>3.961905</td>\n",
       "      <td>5b42da1bf64320209fc8da69</td>\n",
       "      <td>0</td>\n",
       "      <td>https://www.wish.com/c/5e74be96034d613d42b52dfe</td>\n",
       "      <td>https://contestimg.wish.com/api/webimage/5e74b...</td>\n",
       "      <td>5e74be96034d613d42b52dfe</td>\n",
       "      <td>summer</td>\n",
       "    </tr>\n",
       "    <tr>\n",
       "      <th>1571</th>\n",
       "      <td>Fashion Women Summer Sleeveless Dresses V Neck...</td>\n",
       "      <td>13.00</td>\n",
       "      <td>11</td>\n",
       "      <td>EUR</td>\n",
       "      <td>100</td>\n",
       "      <td>0</td>\n",
       "      <td>2.50</td>\n",
       "      <td>2</td>\n",
       "      <td>0.0</td>\n",
       "      <td>1.0</td>\n",
       "      <td>...</td>\n",
       "      <td>modai</td>\n",
       "      <td>77 % avis positifs (31 notes)</td>\n",
       "      <td>31</td>\n",
       "      <td>3.774194</td>\n",
       "      <td>5d56b32c40defd78043d5af9</td>\n",
       "      <td>0</td>\n",
       "      <td>https://www.wish.com/c/5eda07ab0e295c2097c36590</td>\n",
       "      <td>https://contestimg.wish.com/api/webimage/5eda0...</td>\n",
       "      <td>5eda07ab0e295c2097c36590</td>\n",
       "      <td>summer</td>\n",
       "    </tr>\n",
       "    <tr>\n",
       "      <th>1572</th>\n",
       "      <td>Fashion Women Yoga Pants Slim Fit Fitness Runn...</td>\n",
       "      <td>7.00</td>\n",
       "      <td>6</td>\n",
       "      <td>EUR</td>\n",
       "      <td>100</td>\n",
       "      <td>1</td>\n",
       "      <td>4.07</td>\n",
       "      <td>14</td>\n",
       "      <td>8.0</td>\n",
       "      <td>3.0</td>\n",
       "      <td>...</td>\n",
       "      <td>aishoppingmall</td>\n",
       "      <td>90 % avis positifs (7,023 notes)</td>\n",
       "      <td>7023</td>\n",
       "      <td>4.235939</td>\n",
       "      <td>5a409cf87b584e7951b2e25f</td>\n",
       "      <td>0</td>\n",
       "      <td>https://www.wish.com/c/5e857321f53c3d2d8f25e7ed</td>\n",
       "      <td>https://contestimg.wish.com/api/webimage/5e857...</td>\n",
       "      <td>5e857321f53c3d2d8f25e7ed</td>\n",
       "      <td>summer</td>\n",
       "    </tr>\n",
       "  </tbody>\n",
       "</table>\n",
       "<p>1573 rows × 40 columns</p>\n",
       "</div>"
      ],
      "text/plain": [
       "                                                  title  price  retail_price  \\\n",
       "0     2020 Summer Vintage Flamingo Print  Pajamas Se...  16.00            14   \n",
       "1      Women's Casual Summer Sleeveless Sexy Mini Dress   8.00            22   \n",
       "2     2020 New Arrival Women Spring and Summer Beach...   8.00            43   \n",
       "3     Hot Summer Cool T Shirt for Women Fashion Tops...   8.00             8   \n",
       "4     Women Summer Shorts Lace Up Elastic Waistband ...   2.72             3   \n",
       "...                                                 ...    ...           ...   \n",
       "1568  New Fashion Women Bohemia Dandelion Print Tee ...   6.00             9   \n",
       "1569  10 Color Women Summer Shorts Lace Up Elastic W...   2.00            56   \n",
       "1570  New Men Siwmwear Beach-Shorts Men Summer Quick...   5.00            19   \n",
       "1571  Fashion Women Summer Sleeveless Dresses V Neck...  13.00            11   \n",
       "1572  Fashion Women Yoga Pants Slim Fit Fitness Runn...   7.00             6   \n",
       "\n",
       "     currency  units_sold  uses_ad_boosts  rating  rating_count  \\\n",
       "0         EUR         100               0    3.76            54   \n",
       "1         EUR       20000               1    3.45          6135   \n",
       "2         EUR         100               0    3.57            14   \n",
       "3         EUR        5000               1    4.03           579   \n",
       "4         EUR         100               1    3.10            20   \n",
       "...       ...         ...             ...     ...           ...   \n",
       "1568      EUR       10000               1    4.08          1367   \n",
       "1569      EUR         100               1    3.07            28   \n",
       "1570      EUR         100               0    3.71            59   \n",
       "1571      EUR         100               0    2.50             2   \n",
       "1572      EUR         100               1    4.07            14   \n",
       "\n",
       "      rating_five_count  rating_four_count  ...         merchant_name  \\\n",
       "0                  26.0                8.0  ...              zgrdejia   \n",
       "1                2269.0             1027.0  ...             sarahouse   \n",
       "2                   5.0                4.0  ...                hxt520   \n",
       "3                 295.0              119.0  ...              allenfan   \n",
       "4                   6.0                4.0  ...           happyhorses   \n",
       "...                 ...                ...  ...                   ...   \n",
       "1568              722.0              293.0  ...          cxuelin99126   \n",
       "1569               11.0                3.0  ...  sellbestqualitygoods   \n",
       "1570               24.0               15.0  ...            shixueying   \n",
       "1571                0.0                1.0  ...                 modai   \n",
       "1572                8.0                3.0  ...        aishoppingmall   \n",
       "\n",
       "                 merchant_info_subtitle  merchant_rating_count  \\\n",
       "0                           (568 notes)                    568   \n",
       "1     83 % avis positifs (17,752 notes)                  17752   \n",
       "2        86 % avis positifs (295 notes)                    295   \n",
       "3                        (23,832 notes)                  23832   \n",
       "4     85 % avis positifs (14,482 notes)                  14482   \n",
       "...                                 ...                    ...   \n",
       "1568   90 % avis positifs (5,316 notes)                   5316   \n",
       "1569                      (4,435 notes)                   4435   \n",
       "1570     86 % avis positifs (210 notes)                    210   \n",
       "1571      77 % avis positifs (31 notes)                     31   \n",
       "1572   90 % avis positifs (7,023 notes)                   7023   \n",
       "\n",
       "      merchant_rating               merchant_id  merchant_has_profile_picture  \\\n",
       "0            4.128521  595097d6a26f6e070cb878d1                             0   \n",
       "1            3.899673  56458aa03a698c35c9050988                             0   \n",
       "2            3.989831  5d464a1ffdf7bc44ee933c65                             0   \n",
       "3            4.020435  58cfdefdacb37b556efdff7c                             0   \n",
       "4            4.001588  5ab3b592c3911a095ad5dadb                             0   \n",
       "...               ...                       ...                           ...   \n",
       "1568         4.224605  5b507899ab577736508a0782                             0   \n",
       "1569         3.696054  54d83b6b6b8a771e478558de                             0   \n",
       "1570         3.961905  5b42da1bf64320209fc8da69                             0   \n",
       "1571         3.774194  5d56b32c40defd78043d5af9                             0   \n",
       "1572         4.235939  5a409cf87b584e7951b2e25f                             0   \n",
       "\n",
       "                                          product_url  \\\n",
       "0     https://www.wish.com/c/5e9ae51d43d6a96e303acdb0   \n",
       "1     https://www.wish.com/c/58940d436a0d3d5da4e95a38   \n",
       "2     https://www.wish.com/c/5ea10e2c617580260d55310a   \n",
       "3     https://www.wish.com/c/5cedf17ad1d44c52c59e4aca   \n",
       "4     https://www.wish.com/c/5ebf5819ebac372b070b0e70   \n",
       "...                                               ...   \n",
       "1568  https://www.wish.com/c/5d5fadc99febd9356cbc52ee   \n",
       "1569  https://www.wish.com/c/5eccd22b4497b86fd48f16b4   \n",
       "1570  https://www.wish.com/c/5e74be96034d613d42b52dfe   \n",
       "1571  https://www.wish.com/c/5eda07ab0e295c2097c36590   \n",
       "1572  https://www.wish.com/c/5e857321f53c3d2d8f25e7ed   \n",
       "\n",
       "                                        product_picture  \\\n",
       "0     https://contestimg.wish.com/api/webimage/5e9ae...   \n",
       "1     https://contestimg.wish.com/api/webimage/58940...   \n",
       "2     https://contestimg.wish.com/api/webimage/5ea10...   \n",
       "3     https://contestimg.wish.com/api/webimage/5cedf...   \n",
       "4     https://contestimg.wish.com/api/webimage/5ebf5...   \n",
       "...                                                 ...   \n",
       "1568  https://contestimg.wish.com/api/webimage/5d5fa...   \n",
       "1569  https://contestimg.wish.com/api/webimage/5eccd...   \n",
       "1570  https://contestimg.wish.com/api/webimage/5e74b...   \n",
       "1571  https://contestimg.wish.com/api/webimage/5eda0...   \n",
       "1572  https://contestimg.wish.com/api/webimage/5e857...   \n",
       "\n",
       "                    product_id   theme  \n",
       "0     5e9ae51d43d6a96e303acdb0  summer  \n",
       "1     58940d436a0d3d5da4e95a38  summer  \n",
       "2     5ea10e2c617580260d55310a  summer  \n",
       "3     5cedf17ad1d44c52c59e4aca  summer  \n",
       "4     5ebf5819ebac372b070b0e70  summer  \n",
       "...                        ...     ...  \n",
       "1568  5d5fadc99febd9356cbc52ee  summer  \n",
       "1569  5eccd22b4497b86fd48f16b4  summer  \n",
       "1570  5e74be96034d613d42b52dfe  summer  \n",
       "1571  5eda07ab0e295c2097c36590  summer  \n",
       "1572  5e857321f53c3d2d8f25e7ed  summer  \n",
       "\n",
       "[1573 rows x 40 columns]"
      ]
     },
     "execution_count": 3,
     "metadata": {},
     "output_type": "execute_result"
    }
   ],
   "source": [
    "#Reading the csv into a dataframe\n",
    "df = pd.read_csv('summer product sales.csv')\n",
    "df"
   ]
  },
  {
   "cell_type": "code",
   "execution_count": 4,
   "metadata": {},
   "outputs": [
    {
     "data": {
      "text/plain": [
       "(1573, 40)"
      ]
     },
     "execution_count": 4,
     "metadata": {},
     "output_type": "execute_result"
    }
   ],
   "source": [
    "# get the number of rows and columns\n",
    "df.shape"
   ]
  },
  {
   "cell_type": "code",
   "execution_count": 5,
   "metadata": {},
   "outputs": [
    {
     "name": "stdout",
     "output_type": "stream",
     "text": [
      "<class 'pandas.core.frame.DataFrame'>\n",
      "RangeIndex: 1573 entries, 0 to 1572\n",
      "Data columns (total 40 columns):\n",
      " #   Column                        Non-Null Count  Dtype  \n",
      "---  ------                        --------------  -----  \n",
      " 0   title                         1573 non-null   object \n",
      " 1   price                         1573 non-null   float64\n",
      " 2   retail_price                  1573 non-null   int64  \n",
      " 3   currency                      1573 non-null   object \n",
      " 4   units_sold                    1573 non-null   int64  \n",
      " 5   uses_ad_boosts                1573 non-null   int64  \n",
      " 6   rating                        1573 non-null   float64\n",
      " 7   rating_count                  1573 non-null   int64  \n",
      " 8   rating_five_count             1528 non-null   float64\n",
      " 9   rating_four_count             1528 non-null   float64\n",
      " 10  rating_three_count            1528 non-null   float64\n",
      " 11  rating_two_count              1528 non-null   float64\n",
      " 12  rating_one_count              1528 non-null   float64\n",
      " 13  badges_count                  1573 non-null   int64  \n",
      " 14  badge_local_product           1573 non-null   int64  \n",
      " 15  badge_product_quality         1573 non-null   int64  \n",
      " 16  badge_fast_shipping           1573 non-null   int64  \n",
      " 17  tags                          1573 non-null   object \n",
      " 18  product_color                 1532 non-null   object \n",
      " 19  product_variation_size_id     1559 non-null   object \n",
      " 20  product_variation_inventory   1573 non-null   int64  \n",
      " 21  shipping_option_name          1573 non-null   object \n",
      " 22  shipping_option_price         1573 non-null   int64  \n",
      " 23  shipping_is_express           1573 non-null   int64  \n",
      " 24  countries_shipped_to          1573 non-null   int64  \n",
      " 25  inventory_total               1573 non-null   int64  \n",
      " 26  has_urgency_banner            473 non-null    float64\n",
      " 27  urgency_text                  473 non-null    object \n",
      " 28  origin_country                1556 non-null   object \n",
      " 29  merchant_title                1573 non-null   object \n",
      " 30  merchant_name                 1569 non-null   object \n",
      " 31  merchant_info_subtitle        1572 non-null   object \n",
      " 32  merchant_rating_count         1573 non-null   int64  \n",
      " 33  merchant_rating               1573 non-null   float64\n",
      " 34  merchant_id                   1573 non-null   object \n",
      " 35  merchant_has_profile_picture  1573 non-null   int64  \n",
      " 36  product_url                   1573 non-null   object \n",
      " 37  product_picture               1573 non-null   object \n",
      " 38  product_id                    1573 non-null   object \n",
      " 39  theme                         1573 non-null   object \n",
      "dtypes: float64(9), int64(15), object(16)\n",
      "memory usage: 491.7+ KB\n"
     ]
    }
   ],
   "source": [
    "# Get data types of columns, number of valid values in each column\n",
    "df.info() "
   ]
  },
  {
   "cell_type": "code",
   "execution_count": 6,
   "metadata": {},
   "outputs": [
    {
     "data": {
      "text/plain": [
       "Index(['title', 'price', 'retail_price', 'currency', 'units_sold',\n",
       "       'uses_ad_boosts', 'rating', 'rating_count', 'rating_five_count',\n",
       "       'rating_four_count', 'rating_three_count', 'rating_two_count',\n",
       "       'rating_one_count', 'badges_count', 'badge_local_product',\n",
       "       'badge_product_quality', 'badge_fast_shipping', 'tags', 'product_color',\n",
       "       'product_variation_size_id', 'product_variation_inventory',\n",
       "       'shipping_option_name', 'shipping_option_price', 'shipping_is_express',\n",
       "       'countries_shipped_to', 'inventory_total', 'has_urgency_banner',\n",
       "       'urgency_text', 'origin_country', 'merchant_title', 'merchant_name',\n",
       "       'merchant_info_subtitle', 'merchant_rating_count', 'merchant_rating',\n",
       "       'merchant_id', 'merchant_has_profile_picture', 'product_url',\n",
       "       'product_picture', 'product_id', 'theme'],\n",
       "      dtype='object')"
      ]
     },
     "execution_count": 6,
     "metadata": {},
     "output_type": "execute_result"
    }
   ],
   "source": [
    "#Looking up column names\n",
    "df.columns "
   ]
  },
  {
   "cell_type": "code",
   "execution_count": 7,
   "metadata": {},
   "outputs": [
    {
     "data": {
      "text/html": [
       "<div>\n",
       "<style scoped>\n",
       "    .dataframe tbody tr th:only-of-type {\n",
       "        vertical-align: middle;\n",
       "    }\n",
       "\n",
       "    .dataframe tbody tr th {\n",
       "        vertical-align: top;\n",
       "    }\n",
       "\n",
       "    .dataframe thead th {\n",
       "        text-align: right;\n",
       "    }\n",
       "</style>\n",
       "<table border=\"1\" class=\"dataframe\">\n",
       "  <thead>\n",
       "    <tr style=\"text-align: right;\">\n",
       "      <th></th>\n",
       "      <th>price</th>\n",
       "      <th>retail_price</th>\n",
       "      <th>units_sold</th>\n",
       "      <th>uses_ad_boosts</th>\n",
       "      <th>rating</th>\n",
       "      <th>rating_count</th>\n",
       "      <th>rating_five_count</th>\n",
       "      <th>rating_four_count</th>\n",
       "      <th>rating_three_count</th>\n",
       "      <th>rating_two_count</th>\n",
       "      <th>...</th>\n",
       "      <th>badge_fast_shipping</th>\n",
       "      <th>product_variation_inventory</th>\n",
       "      <th>shipping_option_price</th>\n",
       "      <th>shipping_is_express</th>\n",
       "      <th>countries_shipped_to</th>\n",
       "      <th>inventory_total</th>\n",
       "      <th>has_urgency_banner</th>\n",
       "      <th>merchant_rating_count</th>\n",
       "      <th>merchant_rating</th>\n",
       "      <th>merchant_has_profile_picture</th>\n",
       "    </tr>\n",
       "  </thead>\n",
       "  <tbody>\n",
       "    <tr>\n",
       "      <th>count</th>\n",
       "      <td>1573.000000</td>\n",
       "      <td>1573.000000</td>\n",
       "      <td>1573.000000</td>\n",
       "      <td>1573.000000</td>\n",
       "      <td>1573.000000</td>\n",
       "      <td>1573.000000</td>\n",
       "      <td>1528.000000</td>\n",
       "      <td>1528.000000</td>\n",
       "      <td>1528.000000</td>\n",
       "      <td>1528.000000</td>\n",
       "      <td>...</td>\n",
       "      <td>1573.000000</td>\n",
       "      <td>1573.000000</td>\n",
       "      <td>1573.000000</td>\n",
       "      <td>1573.000000</td>\n",
       "      <td>1573.000000</td>\n",
       "      <td>1573.000000</td>\n",
       "      <td>473.0</td>\n",
       "      <td>1.573000e+03</td>\n",
       "      <td>1573.000000</td>\n",
       "      <td>1573.000000</td>\n",
       "    </tr>\n",
       "    <tr>\n",
       "      <th>mean</th>\n",
       "      <td>8.325372</td>\n",
       "      <td>23.288620</td>\n",
       "      <td>4339.005086</td>\n",
       "      <td>0.432931</td>\n",
       "      <td>3.820896</td>\n",
       "      <td>889.659250</td>\n",
       "      <td>442.263743</td>\n",
       "      <td>179.599476</td>\n",
       "      <td>134.549738</td>\n",
       "      <td>63.711387</td>\n",
       "      <td>...</td>\n",
       "      <td>0.012715</td>\n",
       "      <td>33.081373</td>\n",
       "      <td>2.345200</td>\n",
       "      <td>0.002543</td>\n",
       "      <td>40.456453</td>\n",
       "      <td>49.821360</td>\n",
       "      <td>1.0</td>\n",
       "      <td>2.649583e+04</td>\n",
       "      <td>4.032345</td>\n",
       "      <td>0.143675</td>\n",
       "    </tr>\n",
       "    <tr>\n",
       "      <th>std</th>\n",
       "      <td>3.932030</td>\n",
       "      <td>30.357863</td>\n",
       "      <td>9356.539302</td>\n",
       "      <td>0.495639</td>\n",
       "      <td>0.515374</td>\n",
       "      <td>1983.928834</td>\n",
       "      <td>980.203270</td>\n",
       "      <td>400.516231</td>\n",
       "      <td>311.690656</td>\n",
       "      <td>151.343933</td>\n",
       "      <td>...</td>\n",
       "      <td>0.112075</td>\n",
       "      <td>21.353137</td>\n",
       "      <td>1.024371</td>\n",
       "      <td>0.050379</td>\n",
       "      <td>20.301203</td>\n",
       "      <td>2.562799</td>\n",
       "      <td>0.0</td>\n",
       "      <td>7.847446e+04</td>\n",
       "      <td>0.204768</td>\n",
       "      <td>0.350871</td>\n",
       "    </tr>\n",
       "    <tr>\n",
       "      <th>min</th>\n",
       "      <td>1.000000</td>\n",
       "      <td>1.000000</td>\n",
       "      <td>1.000000</td>\n",
       "      <td>0.000000</td>\n",
       "      <td>1.000000</td>\n",
       "      <td>0.000000</td>\n",
       "      <td>0.000000</td>\n",
       "      <td>0.000000</td>\n",
       "      <td>0.000000</td>\n",
       "      <td>0.000000</td>\n",
       "      <td>...</td>\n",
       "      <td>0.000000</td>\n",
       "      <td>1.000000</td>\n",
       "      <td>1.000000</td>\n",
       "      <td>0.000000</td>\n",
       "      <td>6.000000</td>\n",
       "      <td>1.000000</td>\n",
       "      <td>1.0</td>\n",
       "      <td>0.000000e+00</td>\n",
       "      <td>2.333333</td>\n",
       "      <td>0.000000</td>\n",
       "    </tr>\n",
       "    <tr>\n",
       "      <th>25%</th>\n",
       "      <td>5.810000</td>\n",
       "      <td>7.000000</td>\n",
       "      <td>100.000000</td>\n",
       "      <td>0.000000</td>\n",
       "      <td>3.550000</td>\n",
       "      <td>24.000000</td>\n",
       "      <td>12.000000</td>\n",
       "      <td>5.000000</td>\n",
       "      <td>4.000000</td>\n",
       "      <td>2.000000</td>\n",
       "      <td>...</td>\n",
       "      <td>0.000000</td>\n",
       "      <td>6.000000</td>\n",
       "      <td>2.000000</td>\n",
       "      <td>0.000000</td>\n",
       "      <td>31.000000</td>\n",
       "      <td>50.000000</td>\n",
       "      <td>1.0</td>\n",
       "      <td>1.987000e+03</td>\n",
       "      <td>3.917353</td>\n",
       "      <td>0.000000</td>\n",
       "    </tr>\n",
       "    <tr>\n",
       "      <th>50%</th>\n",
       "      <td>8.000000</td>\n",
       "      <td>10.000000</td>\n",
       "      <td>1000.000000</td>\n",
       "      <td>0.000000</td>\n",
       "      <td>3.850000</td>\n",
       "      <td>150.000000</td>\n",
       "      <td>79.000000</td>\n",
       "      <td>31.500000</td>\n",
       "      <td>24.000000</td>\n",
       "      <td>11.000000</td>\n",
       "      <td>...</td>\n",
       "      <td>0.000000</td>\n",
       "      <td>50.000000</td>\n",
       "      <td>2.000000</td>\n",
       "      <td>0.000000</td>\n",
       "      <td>40.000000</td>\n",
       "      <td>50.000000</td>\n",
       "      <td>1.0</td>\n",
       "      <td>7.936000e+03</td>\n",
       "      <td>4.040650</td>\n",
       "      <td>0.000000</td>\n",
       "    </tr>\n",
       "    <tr>\n",
       "      <th>75%</th>\n",
       "      <td>11.000000</td>\n",
       "      <td>26.000000</td>\n",
       "      <td>5000.000000</td>\n",
       "      <td>1.000000</td>\n",
       "      <td>4.110000</td>\n",
       "      <td>855.000000</td>\n",
       "      <td>413.500000</td>\n",
       "      <td>168.250000</td>\n",
       "      <td>129.250000</td>\n",
       "      <td>62.000000</td>\n",
       "      <td>...</td>\n",
       "      <td>0.000000</td>\n",
       "      <td>50.000000</td>\n",
       "      <td>3.000000</td>\n",
       "      <td>0.000000</td>\n",
       "      <td>43.000000</td>\n",
       "      <td>50.000000</td>\n",
       "      <td>1.0</td>\n",
       "      <td>2.456400e+04</td>\n",
       "      <td>4.161797</td>\n",
       "      <td>0.000000</td>\n",
       "    </tr>\n",
       "    <tr>\n",
       "      <th>max</th>\n",
       "      <td>49.000000</td>\n",
       "      <td>252.000000</td>\n",
       "      <td>100000.000000</td>\n",
       "      <td>1.000000</td>\n",
       "      <td>5.000000</td>\n",
       "      <td>20744.000000</td>\n",
       "      <td>11548.000000</td>\n",
       "      <td>4152.000000</td>\n",
       "      <td>3658.000000</td>\n",
       "      <td>2003.000000</td>\n",
       "      <td>...</td>\n",
       "      <td>1.000000</td>\n",
       "      <td>50.000000</td>\n",
       "      <td>12.000000</td>\n",
       "      <td>1.000000</td>\n",
       "      <td>140.000000</td>\n",
       "      <td>50.000000</td>\n",
       "      <td>1.0</td>\n",
       "      <td>2.174765e+06</td>\n",
       "      <td>5.000000</td>\n",
       "      <td>1.000000</td>\n",
       "    </tr>\n",
       "  </tbody>\n",
       "</table>\n",
       "<p>8 rows × 24 columns</p>\n",
       "</div>"
      ],
      "text/plain": [
       "             price  retail_price     units_sold  uses_ad_boosts       rating  \\\n",
       "count  1573.000000   1573.000000    1573.000000     1573.000000  1573.000000   \n",
       "mean      8.325372     23.288620    4339.005086        0.432931     3.820896   \n",
       "std       3.932030     30.357863    9356.539302        0.495639     0.515374   \n",
       "min       1.000000      1.000000       1.000000        0.000000     1.000000   \n",
       "25%       5.810000      7.000000     100.000000        0.000000     3.550000   \n",
       "50%       8.000000     10.000000    1000.000000        0.000000     3.850000   \n",
       "75%      11.000000     26.000000    5000.000000        1.000000     4.110000   \n",
       "max      49.000000    252.000000  100000.000000        1.000000     5.000000   \n",
       "\n",
       "       rating_count  rating_five_count  rating_four_count  rating_three_count  \\\n",
       "count   1573.000000        1528.000000        1528.000000         1528.000000   \n",
       "mean     889.659250         442.263743         179.599476          134.549738   \n",
       "std     1983.928834         980.203270         400.516231          311.690656   \n",
       "min        0.000000           0.000000           0.000000            0.000000   \n",
       "25%       24.000000          12.000000           5.000000            4.000000   \n",
       "50%      150.000000          79.000000          31.500000           24.000000   \n",
       "75%      855.000000         413.500000         168.250000          129.250000   \n",
       "max    20744.000000       11548.000000        4152.000000         3658.000000   \n",
       "\n",
       "       rating_two_count  ...  badge_fast_shipping  \\\n",
       "count       1528.000000  ...          1573.000000   \n",
       "mean          63.711387  ...             0.012715   \n",
       "std          151.343933  ...             0.112075   \n",
       "min            0.000000  ...             0.000000   \n",
       "25%            2.000000  ...             0.000000   \n",
       "50%           11.000000  ...             0.000000   \n",
       "75%           62.000000  ...             0.000000   \n",
       "max         2003.000000  ...             1.000000   \n",
       "\n",
       "       product_variation_inventory  shipping_option_price  \\\n",
       "count                  1573.000000            1573.000000   \n",
       "mean                     33.081373               2.345200   \n",
       "std                      21.353137               1.024371   \n",
       "min                       1.000000               1.000000   \n",
       "25%                       6.000000               2.000000   \n",
       "50%                      50.000000               2.000000   \n",
       "75%                      50.000000               3.000000   \n",
       "max                      50.000000              12.000000   \n",
       "\n",
       "       shipping_is_express  countries_shipped_to  inventory_total  \\\n",
       "count          1573.000000           1573.000000      1573.000000   \n",
       "mean              0.002543             40.456453        49.821360   \n",
       "std               0.050379             20.301203         2.562799   \n",
       "min               0.000000              6.000000         1.000000   \n",
       "25%               0.000000             31.000000        50.000000   \n",
       "50%               0.000000             40.000000        50.000000   \n",
       "75%               0.000000             43.000000        50.000000   \n",
       "max               1.000000            140.000000        50.000000   \n",
       "\n",
       "       has_urgency_banner  merchant_rating_count  merchant_rating  \\\n",
       "count               473.0           1.573000e+03      1573.000000   \n",
       "mean                  1.0           2.649583e+04         4.032345   \n",
       "std                   0.0           7.847446e+04         0.204768   \n",
       "min                   1.0           0.000000e+00         2.333333   \n",
       "25%                   1.0           1.987000e+03         3.917353   \n",
       "50%                   1.0           7.936000e+03         4.040650   \n",
       "75%                   1.0           2.456400e+04         4.161797   \n",
       "max                   1.0           2.174765e+06         5.000000   \n",
       "\n",
       "       merchant_has_profile_picture  \n",
       "count                   1573.000000  \n",
       "mean                       0.143675  \n",
       "std                        0.350871  \n",
       "min                        0.000000  \n",
       "25%                        0.000000  \n",
       "50%                        0.000000  \n",
       "75%                        0.000000  \n",
       "max                        1.000000  \n",
       "\n",
       "[8 rows x 24 columns]"
      ]
     },
     "execution_count": 7,
     "metadata": {},
     "output_type": "execute_result"
    }
   ],
   "source": [
    "# Summary statistics for numerical variables\n",
    "df.describe()  "
   ]
  },
  {
   "cell_type": "markdown",
   "metadata": {},
   "source": [
    "### Clean and Prepare Data"
   ]
  },
  {
   "cell_type": "code",
   "execution_count": 8,
   "metadata": {},
   "outputs": [],
   "source": [
    "#Dropping unwanted columns\n",
    "df = df.drop(['currency', 'badges_count','product_color',\n",
    "       'product_variation_size_id', 'product_variation_inventory',\n",
    "       'shipping_option_name', 'shipping_option_price', 'shipping_is_express',\n",
    "       'countries_shipped_to', 'has_urgency_banner','origin_country', 'merchant_title', 'merchant_name',\n",
    "       'merchant_info_subtitle', 'merchant_has_profile_picture', 'product_url',\n",
    "       'product_picture','theme'], axis=1)"
   ]
  },
  {
   "cell_type": "code",
   "execution_count": 9,
   "metadata": {},
   "outputs": [
    {
     "name": "stdout",
     "output_type": "stream",
     "text": [
      "<class 'pandas.core.frame.DataFrame'>\n",
      "RangeIndex: 1573 entries, 0 to 1572\n",
      "Data columns (total 22 columns):\n",
      " #   Column                 Non-Null Count  Dtype  \n",
      "---  ------                 --------------  -----  \n",
      " 0   title                  1573 non-null   object \n",
      " 1   price                  1573 non-null   float64\n",
      " 2   retail_price           1573 non-null   int64  \n",
      " 3   units_sold             1573 non-null   int64  \n",
      " 4   uses_ad_boosts         1573 non-null   int64  \n",
      " 5   rating                 1573 non-null   float64\n",
      " 6   rating_count           1573 non-null   int64  \n",
      " 7   rating_five_count      1528 non-null   float64\n",
      " 8   rating_four_count      1528 non-null   float64\n",
      " 9   rating_three_count     1528 non-null   float64\n",
      " 10  rating_two_count       1528 non-null   float64\n",
      " 11  rating_one_count       1528 non-null   float64\n",
      " 12  badge_local_product    1573 non-null   int64  \n",
      " 13  badge_product_quality  1573 non-null   int64  \n",
      " 14  badge_fast_shipping    1573 non-null   int64  \n",
      " 15  tags                   1573 non-null   object \n",
      " 16  inventory_total        1573 non-null   int64  \n",
      " 17  urgency_text           473 non-null    object \n",
      " 18  merchant_rating_count  1573 non-null   int64  \n",
      " 19  merchant_rating        1573 non-null   float64\n",
      " 20  merchant_id            1573 non-null   object \n",
      " 21  product_id             1573 non-null   object \n",
      "dtypes: float64(8), int64(9), object(5)\n",
      "memory usage: 270.5+ KB\n"
     ]
    }
   ],
   "source": [
    "# Get data types of columns, number of valid values in each column after dropping unwanted columns\n",
    "df.info()"
   ]
  },
  {
   "cell_type": "code",
   "execution_count": 10,
   "metadata": {},
   "outputs": [
    {
     "data": {
      "text/plain": [
       "0       False\n",
       "1       False\n",
       "2       False\n",
       "3       False\n",
       "4       False\n",
       "        ...  \n",
       "1568    False\n",
       "1569    False\n",
       "1570    False\n",
       "1571    False\n",
       "1572    False\n",
       "Length: 1573, dtype: bool"
      ]
     },
     "execution_count": 10,
     "metadata": {},
     "output_type": "execute_result"
    }
   ],
   "source": [
    "#Looking for duplicate rows\n",
    "df.duplicated()"
   ]
  },
  {
   "cell_type": "code",
   "execution_count": 11,
   "metadata": {},
   "outputs": [],
   "source": [
    "#Using a combination of profuct_id and merchant_id to keep unique rows\n",
    "df.drop_duplicates(['product_id', 'merchant_id'], keep='last',inplace=True)"
   ]
  },
  {
   "cell_type": "code",
   "execution_count": 12,
   "metadata": {},
   "outputs": [
    {
     "data": {
      "text/html": [
       "<div>\n",
       "<style scoped>\n",
       "    .dataframe tbody tr th:only-of-type {\n",
       "        vertical-align: middle;\n",
       "    }\n",
       "\n",
       "    .dataframe tbody tr th {\n",
       "        vertical-align: top;\n",
       "    }\n",
       "\n",
       "    .dataframe thead th {\n",
       "        text-align: right;\n",
       "    }\n",
       "</style>\n",
       "<table border=\"1\" class=\"dataframe\">\n",
       "  <thead>\n",
       "    <tr style=\"text-align: right;\">\n",
       "      <th></th>\n",
       "      <th>title</th>\n",
       "      <th>price</th>\n",
       "      <th>retail_price</th>\n",
       "      <th>units_sold</th>\n",
       "      <th>uses_ad_boosts</th>\n",
       "      <th>rating</th>\n",
       "      <th>rating_count</th>\n",
       "      <th>rating_five_count</th>\n",
       "      <th>rating_four_count</th>\n",
       "      <th>rating_three_count</th>\n",
       "      <th>...</th>\n",
       "      <th>badge_local_product</th>\n",
       "      <th>badge_product_quality</th>\n",
       "      <th>badge_fast_shipping</th>\n",
       "      <th>tags</th>\n",
       "      <th>inventory_total</th>\n",
       "      <th>urgency_text</th>\n",
       "      <th>merchant_rating_count</th>\n",
       "      <th>merchant_rating</th>\n",
       "      <th>merchant_id</th>\n",
       "      <th>product_id</th>\n",
       "    </tr>\n",
       "  </thead>\n",
       "  <tbody>\n",
       "    <tr>\n",
       "      <th>0</th>\n",
       "      <td>2020 Summer Vintage Flamingo Print  Pajamas Se...</td>\n",
       "      <td>16.00</td>\n",
       "      <td>14</td>\n",
       "      <td>100</td>\n",
       "      <td>0</td>\n",
       "      <td>3.76</td>\n",
       "      <td>54</td>\n",
       "      <td>26.0</td>\n",
       "      <td>8.0</td>\n",
       "      <td>10.0</td>\n",
       "      <td>...</td>\n",
       "      <td>0</td>\n",
       "      <td>0</td>\n",
       "      <td>0</td>\n",
       "      <td>Summer,Fashion,womenunderwearsuit,printedpajam...</td>\n",
       "      <td>50</td>\n",
       "      <td>Quantité limitée !</td>\n",
       "      <td>568</td>\n",
       "      <td>4.128521</td>\n",
       "      <td>595097d6a26f6e070cb878d1</td>\n",
       "      <td>5e9ae51d43d6a96e303acdb0</td>\n",
       "    </tr>\n",
       "    <tr>\n",
       "      <th>1</th>\n",
       "      <td>Women's Casual Summer Sleeveless Sexy Mini Dress</td>\n",
       "      <td>8.00</td>\n",
       "      <td>22</td>\n",
       "      <td>20000</td>\n",
       "      <td>1</td>\n",
       "      <td>3.45</td>\n",
       "      <td>6135</td>\n",
       "      <td>2269.0</td>\n",
       "      <td>1027.0</td>\n",
       "      <td>1118.0</td>\n",
       "      <td>...</td>\n",
       "      <td>0</td>\n",
       "      <td>0</td>\n",
       "      <td>0</td>\n",
       "      <td>Mini,womens dresses,Summer,Patchwork,fashion d...</td>\n",
       "      <td>50</td>\n",
       "      <td>Quantité limitée !</td>\n",
       "      <td>17752</td>\n",
       "      <td>3.899673</td>\n",
       "      <td>56458aa03a698c35c9050988</td>\n",
       "      <td>58940d436a0d3d5da4e95a38</td>\n",
       "    </tr>\n",
       "    <tr>\n",
       "      <th>2</th>\n",
       "      <td>2020 New Arrival Women Spring and Summer Beach...</td>\n",
       "      <td>8.00</td>\n",
       "      <td>43</td>\n",
       "      <td>100</td>\n",
       "      <td>0</td>\n",
       "      <td>3.57</td>\n",
       "      <td>14</td>\n",
       "      <td>5.0</td>\n",
       "      <td>4.0</td>\n",
       "      <td>2.0</td>\n",
       "      <td>...</td>\n",
       "      <td>0</td>\n",
       "      <td>0</td>\n",
       "      <td>0</td>\n",
       "      <td>Summer,cardigan,women beachwear,chiffon,Sexy w...</td>\n",
       "      <td>50</td>\n",
       "      <td>Quantité limitée !</td>\n",
       "      <td>295</td>\n",
       "      <td>3.989831</td>\n",
       "      <td>5d464a1ffdf7bc44ee933c65</td>\n",
       "      <td>5ea10e2c617580260d55310a</td>\n",
       "    </tr>\n",
       "    <tr>\n",
       "      <th>5</th>\n",
       "      <td>Plus Size Summer Women Casual Sleeveless Rompe...</td>\n",
       "      <td>3.92</td>\n",
       "      <td>9</td>\n",
       "      <td>10</td>\n",
       "      <td>0</td>\n",
       "      <td>5.00</td>\n",
       "      <td>1</td>\n",
       "      <td>1.0</td>\n",
       "      <td>0.0</td>\n",
       "      <td>0.0</td>\n",
       "      <td>...</td>\n",
       "      <td>0</td>\n",
       "      <td>0</td>\n",
       "      <td>0</td>\n",
       "      <td>Deep V-Neck,Summer,Plus Size,Spaghetti Strap,O...</td>\n",
       "      <td>50</td>\n",
       "      <td>NaN</td>\n",
       "      <td>65</td>\n",
       "      <td>3.507692</td>\n",
       "      <td>5e4b9c3801ba9d210036fc5a</td>\n",
       "      <td>5ec645bafd107a02279c8c54</td>\n",
       "    </tr>\n",
       "    <tr>\n",
       "      <th>6</th>\n",
       "      <td>Women Fashion Loose Lace Blouse V Neck Bat Sle...</td>\n",
       "      <td>7.00</td>\n",
       "      <td>6</td>\n",
       "      <td>50000</td>\n",
       "      <td>0</td>\n",
       "      <td>3.84</td>\n",
       "      <td>6742</td>\n",
       "      <td>3172.0</td>\n",
       "      <td>1352.0</td>\n",
       "      <td>971.0</td>\n",
       "      <td>...</td>\n",
       "      <td>0</td>\n",
       "      <td>0</td>\n",
       "      <td>0</td>\n",
       "      <td>blouse,Women,lace t shirt,summer t-shirts,Lace...</td>\n",
       "      <td>50</td>\n",
       "      <td>NaN</td>\n",
       "      <td>10194</td>\n",
       "      <td>4.076516</td>\n",
       "      <td>5652f4053a698c76dc9a3f37</td>\n",
       "      <td>5c63a337d5e2ce4bbb3152cf</td>\n",
       "    </tr>\n",
       "  </tbody>\n",
       "</table>\n",
       "<p>5 rows × 22 columns</p>\n",
       "</div>"
      ],
      "text/plain": [
       "                                               title  price  retail_price  \\\n",
       "0  2020 Summer Vintage Flamingo Print  Pajamas Se...  16.00            14   \n",
       "1   Women's Casual Summer Sleeveless Sexy Mini Dress   8.00            22   \n",
       "2  2020 New Arrival Women Spring and Summer Beach...   8.00            43   \n",
       "5  Plus Size Summer Women Casual Sleeveless Rompe...   3.92             9   \n",
       "6  Women Fashion Loose Lace Blouse V Neck Bat Sle...   7.00             6   \n",
       "\n",
       "   units_sold  uses_ad_boosts  rating  rating_count  rating_five_count  \\\n",
       "0         100               0    3.76            54               26.0   \n",
       "1       20000               1    3.45          6135             2269.0   \n",
       "2         100               0    3.57            14                5.0   \n",
       "5          10               0    5.00             1                1.0   \n",
       "6       50000               0    3.84          6742             3172.0   \n",
       "\n",
       "   rating_four_count  rating_three_count  ...  badge_local_product  \\\n",
       "0                8.0                10.0  ...                    0   \n",
       "1             1027.0              1118.0  ...                    0   \n",
       "2                4.0                 2.0  ...                    0   \n",
       "5                0.0                 0.0  ...                    0   \n",
       "6             1352.0               971.0  ...                    0   \n",
       "\n",
       "   badge_product_quality  badge_fast_shipping  \\\n",
       "0                      0                    0   \n",
       "1                      0                    0   \n",
       "2                      0                    0   \n",
       "5                      0                    0   \n",
       "6                      0                    0   \n",
       "\n",
       "                                                tags  inventory_total  \\\n",
       "0  Summer,Fashion,womenunderwearsuit,printedpajam...               50   \n",
       "1  Mini,womens dresses,Summer,Patchwork,fashion d...               50   \n",
       "2  Summer,cardigan,women beachwear,chiffon,Sexy w...               50   \n",
       "5  Deep V-Neck,Summer,Plus Size,Spaghetti Strap,O...               50   \n",
       "6  blouse,Women,lace t shirt,summer t-shirts,Lace...               50   \n",
       "\n",
       "         urgency_text  merchant_rating_count merchant_rating  \\\n",
       "0  Quantité limitée !                    568        4.128521   \n",
       "1  Quantité limitée !                  17752        3.899673   \n",
       "2  Quantité limitée !                    295        3.989831   \n",
       "5                 NaN                     65        3.507692   \n",
       "6                 NaN                  10194        4.076516   \n",
       "\n",
       "                merchant_id                product_id  \n",
       "0  595097d6a26f6e070cb878d1  5e9ae51d43d6a96e303acdb0  \n",
       "1  56458aa03a698c35c9050988  58940d436a0d3d5da4e95a38  \n",
       "2  5d464a1ffdf7bc44ee933c65  5ea10e2c617580260d55310a  \n",
       "5  5e4b9c3801ba9d210036fc5a  5ec645bafd107a02279c8c54  \n",
       "6  5652f4053a698c76dc9a3f37  5c63a337d5e2ce4bbb3152cf  \n",
       "\n",
       "[5 rows x 22 columns]"
      ]
     },
     "execution_count": 12,
     "metadata": {},
     "output_type": "execute_result"
    }
   ],
   "source": [
    "# get the top 5 rows\n",
    "\n",
    "df.head()"
   ]
  },
  {
   "cell_type": "code",
   "execution_count": 13,
   "metadata": {},
   "outputs": [
    {
     "data": {
      "text/plain": [
       "0       False\n",
       "1       False\n",
       "2       False\n",
       "5       False\n",
       "6       False\n",
       "        ...  \n",
       "1568    False\n",
       "1569    False\n",
       "1570    False\n",
       "1571    False\n",
       "1572    False\n",
       "Length: 1341, dtype: bool"
      ]
     },
     "execution_count": 13,
     "metadata": {},
     "output_type": "execute_result"
    }
   ],
   "source": [
    "#Chekcing if worked\n",
    "df.duplicated()"
   ]
  },
  {
   "cell_type": "code",
   "execution_count": 14,
   "metadata": {},
   "outputs": [
    {
     "data": {
      "text/html": [
       "<div>\n",
       "<style scoped>\n",
       "    .dataframe tbody tr th:only-of-type {\n",
       "        vertical-align: middle;\n",
       "    }\n",
       "\n",
       "    .dataframe tbody tr th {\n",
       "        vertical-align: top;\n",
       "    }\n",
       "\n",
       "    .dataframe thead th {\n",
       "        text-align: right;\n",
       "    }\n",
       "</style>\n",
       "<table border=\"1\" class=\"dataframe\">\n",
       "  <thead>\n",
       "    <tr style=\"text-align: right;\">\n",
       "      <th></th>\n",
       "      <th>title</th>\n",
       "      <th>price</th>\n",
       "      <th>retail_price</th>\n",
       "      <th>units_sold</th>\n",
       "      <th>uses_ad_boosts</th>\n",
       "      <th>rating</th>\n",
       "      <th>rating_count</th>\n",
       "      <th>rating_five_count</th>\n",
       "      <th>rating_four_count</th>\n",
       "      <th>rating_three_count</th>\n",
       "      <th>...</th>\n",
       "      <th>badge_local_product</th>\n",
       "      <th>badge_product_quality</th>\n",
       "      <th>badge_fast_shipping</th>\n",
       "      <th>tags</th>\n",
       "      <th>inventory_total</th>\n",
       "      <th>urgency_text</th>\n",
       "      <th>merchant_rating_count</th>\n",
       "      <th>merchant_rating</th>\n",
       "      <th>merchant_id</th>\n",
       "      <th>product_id</th>\n",
       "    </tr>\n",
       "  </thead>\n",
       "  <tbody>\n",
       "    <tr>\n",
       "      <th>0</th>\n",
       "      <td>False</td>\n",
       "      <td>False</td>\n",
       "      <td>False</td>\n",
       "      <td>False</td>\n",
       "      <td>False</td>\n",
       "      <td>False</td>\n",
       "      <td>False</td>\n",
       "      <td>False</td>\n",
       "      <td>False</td>\n",
       "      <td>False</td>\n",
       "      <td>...</td>\n",
       "      <td>False</td>\n",
       "      <td>False</td>\n",
       "      <td>False</td>\n",
       "      <td>False</td>\n",
       "      <td>False</td>\n",
       "      <td>False</td>\n",
       "      <td>False</td>\n",
       "      <td>False</td>\n",
       "      <td>False</td>\n",
       "      <td>False</td>\n",
       "    </tr>\n",
       "    <tr>\n",
       "      <th>1</th>\n",
       "      <td>False</td>\n",
       "      <td>False</td>\n",
       "      <td>False</td>\n",
       "      <td>False</td>\n",
       "      <td>False</td>\n",
       "      <td>False</td>\n",
       "      <td>False</td>\n",
       "      <td>False</td>\n",
       "      <td>False</td>\n",
       "      <td>False</td>\n",
       "      <td>...</td>\n",
       "      <td>False</td>\n",
       "      <td>False</td>\n",
       "      <td>False</td>\n",
       "      <td>False</td>\n",
       "      <td>False</td>\n",
       "      <td>False</td>\n",
       "      <td>False</td>\n",
       "      <td>False</td>\n",
       "      <td>False</td>\n",
       "      <td>False</td>\n",
       "    </tr>\n",
       "    <tr>\n",
       "      <th>2</th>\n",
       "      <td>False</td>\n",
       "      <td>False</td>\n",
       "      <td>False</td>\n",
       "      <td>False</td>\n",
       "      <td>False</td>\n",
       "      <td>False</td>\n",
       "      <td>False</td>\n",
       "      <td>False</td>\n",
       "      <td>False</td>\n",
       "      <td>False</td>\n",
       "      <td>...</td>\n",
       "      <td>False</td>\n",
       "      <td>False</td>\n",
       "      <td>False</td>\n",
       "      <td>False</td>\n",
       "      <td>False</td>\n",
       "      <td>False</td>\n",
       "      <td>False</td>\n",
       "      <td>False</td>\n",
       "      <td>False</td>\n",
       "      <td>False</td>\n",
       "    </tr>\n",
       "    <tr>\n",
       "      <th>5</th>\n",
       "      <td>False</td>\n",
       "      <td>False</td>\n",
       "      <td>False</td>\n",
       "      <td>False</td>\n",
       "      <td>False</td>\n",
       "      <td>False</td>\n",
       "      <td>False</td>\n",
       "      <td>False</td>\n",
       "      <td>False</td>\n",
       "      <td>False</td>\n",
       "      <td>...</td>\n",
       "      <td>False</td>\n",
       "      <td>False</td>\n",
       "      <td>False</td>\n",
       "      <td>False</td>\n",
       "      <td>False</td>\n",
       "      <td>True</td>\n",
       "      <td>False</td>\n",
       "      <td>False</td>\n",
       "      <td>False</td>\n",
       "      <td>False</td>\n",
       "    </tr>\n",
       "    <tr>\n",
       "      <th>6</th>\n",
       "      <td>False</td>\n",
       "      <td>False</td>\n",
       "      <td>False</td>\n",
       "      <td>False</td>\n",
       "      <td>False</td>\n",
       "      <td>False</td>\n",
       "      <td>False</td>\n",
       "      <td>False</td>\n",
       "      <td>False</td>\n",
       "      <td>False</td>\n",
       "      <td>...</td>\n",
       "      <td>False</td>\n",
       "      <td>False</td>\n",
       "      <td>False</td>\n",
       "      <td>False</td>\n",
       "      <td>False</td>\n",
       "      <td>True</td>\n",
       "      <td>False</td>\n",
       "      <td>False</td>\n",
       "      <td>False</td>\n",
       "      <td>False</td>\n",
       "    </tr>\n",
       "  </tbody>\n",
       "</table>\n",
       "<p>5 rows × 22 columns</p>\n",
       "</div>"
      ],
      "text/plain": [
       "   title  price  retail_price  units_sold  uses_ad_boosts  rating  \\\n",
       "0  False  False         False       False           False   False   \n",
       "1  False  False         False       False           False   False   \n",
       "2  False  False         False       False           False   False   \n",
       "5  False  False         False       False           False   False   \n",
       "6  False  False         False       False           False   False   \n",
       "\n",
       "   rating_count  rating_five_count  rating_four_count  rating_three_count  \\\n",
       "0         False              False              False               False   \n",
       "1         False              False              False               False   \n",
       "2         False              False              False               False   \n",
       "5         False              False              False               False   \n",
       "6         False              False              False               False   \n",
       "\n",
       "   ...  badge_local_product  badge_product_quality  badge_fast_shipping  \\\n",
       "0  ...                False                  False                False   \n",
       "1  ...                False                  False                False   \n",
       "2  ...                False                  False                False   \n",
       "5  ...                False                  False                False   \n",
       "6  ...                False                  False                False   \n",
       "\n",
       "    tags  inventory_total  urgency_text  merchant_rating_count  \\\n",
       "0  False            False         False                  False   \n",
       "1  False            False         False                  False   \n",
       "2  False            False         False                  False   \n",
       "5  False            False          True                  False   \n",
       "6  False            False          True                  False   \n",
       "\n",
       "   merchant_rating  merchant_id  product_id  \n",
       "0            False        False       False  \n",
       "1            False        False       False  \n",
       "2            False        False       False  \n",
       "5            False        False       False  \n",
       "6            False        False       False  \n",
       "\n",
       "[5 rows x 22 columns]"
      ]
     },
     "execution_count": 14,
     "metadata": {},
     "output_type": "execute_result"
    }
   ],
   "source": [
    "#Looking for missing values\n",
    "df_missing = df.isnull()\n",
    "df_missing.head(5)"
   ]
  },
  {
   "cell_type": "code",
   "execution_count": 15,
   "metadata": {},
   "outputs": [
    {
     "data": {
      "text/plain": [
       "title                      0\n",
       "price                      0\n",
       "retail_price               0\n",
       "units_sold                 0\n",
       "uses_ad_boosts             0\n",
       "rating                     0\n",
       "rating_count               0\n",
       "rating_five_count         35\n",
       "rating_four_count         35\n",
       "rating_three_count        35\n",
       "rating_two_count          35\n",
       "rating_one_count          35\n",
       "badge_local_product        0\n",
       "badge_product_quality      0\n",
       "badge_fast_shipping        0\n",
       "tags                       0\n",
       "inventory_total            0\n",
       "urgency_text             975\n",
       "merchant_rating_count      0\n",
       "merchant_rating            0\n",
       "merchant_id                0\n",
       "product_id                 0\n",
       "dtype: int64"
      ]
     },
     "execution_count": 15,
     "metadata": {},
     "output_type": "execute_result"
    }
   ],
   "source": [
    "# get the number of missing values in each column\n",
    "df_missing.sum()"
   ]
  },
  {
   "cell_type": "code",
   "execution_count": 16,
   "metadata": {},
   "outputs": [
    {
     "data": {
      "text/plain": [
       "1150"
      ]
     },
     "execution_count": 16,
     "metadata": {},
     "output_type": "execute_result"
    }
   ],
   "source": [
    "# get to sum of total missing value\n",
    "df_missing.sum().sum()"
   ]
  },
  {
   "cell_type": "code",
   "execution_count": 17,
   "metadata": {},
   "outputs": [
    {
     "data": {
      "text/plain": [
       "1.0      67\n",
       "0.0      65\n",
       "2.0      50\n",
       "4.0      42\n",
       "3.0      41\n",
       "         ..\n",
       "153.0     1\n",
       "542.0     1\n",
       "137.0     1\n",
       "324.0     1\n",
       "642.0     1\n",
       "Name: rating_four_count, Length: 440, dtype: int64"
      ]
     },
     "execution_count": 17,
     "metadata": {},
     "output_type": "execute_result"
    }
   ],
   "source": [
    "# get the unique values and frequency of 'rating_four-count' column\n",
    "df['rating_four_count'].value_counts()"
   ]
  },
  {
   "cell_type": "code",
   "execution_count": 18,
   "metadata": {},
   "outputs": [],
   "source": [
    "# Fill in missing Value in 'rating_four_count' column\n",
    "df['rating_four_count'].fillna(0, inplace=True)"
   ]
  },
  {
   "cell_type": "code",
   "execution_count": 19,
   "metadata": {},
   "outputs": [
    {
     "data": {
      "text/plain": [
       "0.0      100\n",
       "1.0       67\n",
       "2.0       50\n",
       "4.0       42\n",
       "3.0       41\n",
       "        ... \n",
       "153.0      1\n",
       "542.0      1\n",
       "137.0      1\n",
       "324.0      1\n",
       "642.0      1\n",
       "Name: rating_four_count, Length: 440, dtype: int64"
      ]
     },
     "execution_count": 19,
     "metadata": {},
     "output_type": "execute_result"
    }
   ],
   "source": [
    "df['rating_four_count'].value_counts()"
   ]
  },
  {
   "cell_type": "code",
   "execution_count": 20,
   "metadata": {},
   "outputs": [],
   "source": [
    "# Fill in missing value in all other rating count column\n",
    "df['rating_five_count'].fillna(0, inplace=True)\n",
    "df['rating_three_count'].fillna(0, inplace=True)\n",
    "df['rating_two_count'].fillna(0, inplace=True)\n",
    "df['rating_one_count'].fillna(0, inplace=True)"
   ]
  },
  {
   "cell_type": "code",
   "execution_count": 21,
   "metadata": {},
   "outputs": [],
   "source": [
    "#Looking for missing values\n",
    "df_missing = df.isnull()"
   ]
  },
  {
   "cell_type": "code",
   "execution_count": 22,
   "metadata": {},
   "outputs": [
    {
     "data": {
      "text/plain": [
       "title                      0\n",
       "price                      0\n",
       "retail_price               0\n",
       "units_sold                 0\n",
       "uses_ad_boosts             0\n",
       "rating                     0\n",
       "rating_count               0\n",
       "rating_five_count          0\n",
       "rating_four_count          0\n",
       "rating_three_count         0\n",
       "rating_two_count           0\n",
       "rating_one_count           0\n",
       "badge_local_product        0\n",
       "badge_product_quality      0\n",
       "badge_fast_shipping        0\n",
       "tags                       0\n",
       "inventory_total            0\n",
       "urgency_text             975\n",
       "merchant_rating_count      0\n",
       "merchant_rating            0\n",
       "merchant_id                0\n",
       "product_id                 0\n",
       "dtype: int64"
      ]
     },
     "execution_count": 22,
     "metadata": {},
     "output_type": "execute_result"
    }
   ],
   "source": [
    "# Check the new missing value\n",
    "df_missing.sum()"
   ]
  },
  {
   "cell_type": "code",
   "execution_count": 23,
   "metadata": {},
   "outputs": [
    {
     "data": {
      "text/plain": [
       "New Fashion Summer Women Casual Dress Round Neck Loose Big Swing Skirt Sleeveless Soild Color Beach dress                     13\n",
       "Sexy Women's Summer Casual Sleeveless Evening Party Backless Beachwear Mini Dress                                              8\n",
       "Summer Women s  Fashion  Lace Up Tie Pants  Plus Size Casual High Waist Short Pants                                            7\n",
       "Summer Women Sling Dress V-neck Floral Pleated Strap Casual Pocket Large Dress                                                 6\n",
       "Women's Summer Fashion Spaghetti Strap Floral Print Tie Front Mini Dress Sexy Dress                                            5\n",
       "                                                                                                                              ..\n",
       "2019 Women Sleeveless Solid Color Lace Halter Yoga Vest  Cotton Slim Fit Tank Top                                              1\n",
       "(S-5XL) Women Fashion Summer Double-Layer Sports Shorts Quick-Drying Yoga Sports Leggings Fitness Shorts Plus Size             1\n",
       "6 Color Summer Women Fashion Sexy Slim Fit Elegant Women Dress Plus Size Solid Color Fit and Flare Rockabilly Dress  S-5XL     1\n",
       "New Women Ladies Fashion Summer Skinny High Wasist Washed Short Jeans Pants                                                    1\n",
       "Anti-Fog Summer Swimming Full Face Mask Surface Diving Snorkel Scuba for GoPro (S/M ,L/XL)                                     1\n",
       "Name: title, Length: 1203, dtype: int64"
      ]
     },
     "execution_count": 23,
     "metadata": {},
     "output_type": "execute_result"
    }
   ],
   "source": [
    "# get the unique values and their frequency of 'title' column\n",
    "df['title'].value_counts()"
   ]
  },
  {
   "cell_type": "code",
   "execution_count": 24,
   "metadata": {
    "scrolled": false
   },
   "outputs": [
    {
     "data": {
      "text/plain": [
       "Summer,Fashion,Necks,Skirts,Dress,Loose,Women's Fashion,Round neck,beach dress,sleeveless,Beach,Casual,Women                                                                                                                                                                       9\n",
       "Summer,Sling,Dresses,Dress,V-neck,Casual,Pocket,Women's Fashion,Sleeveless dress,women dress,Floral,sleeveless,Women,loose dress,Pleated,casual dress                                                                                                                              6\n",
       "Mini,womens dresses,Summer,sleevele,Dress,Mini dress,Women's Fashion,Fashion,backless,party,sexy,summer dresses,Women S Clothing,Casual,sleeveless                                                                                                                                 4\n",
       "Summer,Shorts,high waist shorts,high waist,Casual pants,pants,summer shorts,Waist,Slim Fit,Short pants,Women's Fashion,Plus Size,Lace Up,Women,Fashion,Casual,Lace                                                                                                                 4\n",
       "Summer,Leggings,Fashion,high waist,pants,slim,Women's Fashion,trousers,Green,Army,Women                                                                                                                                                                                            4\n",
       "                                                                                                                                                                                                                                                                                  ..\n",
       "bigswing,Summer,Plus Size,Necks,splicedre,long dress,Dress,Loose,Round neck,lattice,Women's Fashion,off shoulder,printed,sleeveless,Beach,Casual,Women                                                                                                                             1\n",
       "Summer,short sleeve dress,tunic,Sleeve,theweststyle,sleeve dress,Pure Color,tunicsforwomen,fashiontunicdres,short sleeves,Cotton Dress,Tunic dress,Shorts,Elegant Dress,Dress,summer dresses,Women,Women's Fashion,short skirt,casual dress                                        1\n",
       "Vest,womens top,Tank,Tops,slim,T Shirts,Womens T Shirts,Women's Fashion,Fashion,backless,sexy,sleeveless,womens vest,Women                                                                                                                                                         1\n",
       "Summer,womens top,Cotton T Shirt,Food,summer t-shirts,short sleeves,V-neck,Women's Fashion,Plus Size,short sleeve shirt,Casual,Shirt,blouse,Cotton,Shorts,Tops & Blouses,Ladies Fashion,Sleeve,Tops,T Shirts,candy,Pullovers,Tops & T-Shirts,Ladies,loose t-shirt,Women,Fashion    1\n",
       "Summer,Fashion,Yoga,Lace,pants,Slim Fit,sportshort,yogashort,Women's Fashion,Shorts,Sport,slim,Casual,Women                                                                                                                                                                        1\n",
       "Name: tags, Length: 1230, dtype: int64"
      ]
     },
     "execution_count": 24,
     "metadata": {},
     "output_type": "execute_result"
    }
   ],
   "source": [
    "# get the unique values and their frequency of 'tag' column\n",
    "df['tags'].value_counts()"
   ]
  },
  {
   "cell_type": "code",
   "execution_count": 25,
   "metadata": {},
   "outputs": [
    {
     "data": {
      "text/plain": [
       "Quantité limitée !                  365\n",
       "Réduction sur les achats en gros      1\n",
       "Name: urgency_text, dtype: int64"
      ]
     },
     "execution_count": 25,
     "metadata": {},
     "output_type": "execute_result"
    }
   ],
   "source": [
    "# get the unique values and their frequency of 'urgency_text' column\n",
    "df['urgency_text'].value_counts()"
   ]
  },
  {
   "cell_type": "code",
   "execution_count": 26,
   "metadata": {},
   "outputs": [],
   "source": [
    "# Straighten inconsistent coding of data \n",
    "df['urgency_text'].replace({'Quantité limitée !':'1','Réduction sur les achats en gros':'2'}, inplace=True)"
   ]
  },
  {
   "cell_type": "code",
   "execution_count": 27,
   "metadata": {},
   "outputs": [],
   "source": [
    "# fill in nan value\n",
    "df['urgency_text'].fillna(0, inplace=True)"
   ]
  },
  {
   "cell_type": "code",
   "execution_count": 28,
   "metadata": {},
   "outputs": [
    {
     "data": {
      "text/plain": [
       "0       1\n",
       "1       1\n",
       "2       1\n",
       "5       0\n",
       "6       0\n",
       "       ..\n",
       "1568    0\n",
       "1569    1\n",
       "1570    0\n",
       "1571    0\n",
       "1572    0\n",
       "Name: urgency_text, Length: 1341, dtype: object"
      ]
     },
     "execution_count": 28,
     "metadata": {},
     "output_type": "execute_result"
    }
   ],
   "source": [
    "df['urgency_text']"
   ]
  },
  {
   "cell_type": "code",
   "execution_count": 29,
   "metadata": {},
   "outputs": [
    {
     "data": {
      "text/plain": [
       "0    975\n",
       "1    365\n",
       "2      1\n",
       "Name: urgency_text, dtype: int64"
      ]
     },
     "execution_count": 29,
     "metadata": {},
     "output_type": "execute_result"
    }
   ],
   "source": [
    "df['urgency_text'].value_counts()"
   ]
  },
  {
   "cell_type": "code",
   "execution_count": 30,
   "metadata": {},
   "outputs": [],
   "source": [
    "df['women'] = 0\n",
    "df.loc[df['tags'].str.contains('women', regex=False) == True, 'women'] = 1"
   ]
  },
  {
   "cell_type": "code",
   "execution_count": 31,
   "metadata": {},
   "outputs": [],
   "source": [
    "df['summer'] = 0\n",
    "df.loc[df['tags'].str.contains('summer', regex=False) == True, 'summer'] = 1"
   ]
  },
  {
   "cell_type": "code",
   "execution_count": 32,
   "metadata": {},
   "outputs": [],
   "source": [
    "df['fashion'] = 0\n",
    "df.loc[df['tags'].str.contains('fashion', regex=False) == True, 'fashion'] = 1"
   ]
  },
  {
   "cell_type": "code",
   "execution_count": 33,
   "metadata": {},
   "outputs": [],
   "source": [
    "df['units_2k'] = 'Under 2k'\n",
    "df.loc[df['units_sold'] >= 2000, 'units_2k'] = '2k & over'"
   ]
  },
  {
   "cell_type": "code",
   "execution_count": 34,
   "metadata": {},
   "outputs": [
    {
     "data": {
      "text/plain": [
       "Under 2k     856\n",
       "2k & over    485\n",
       "Name: units_2k, dtype: int64"
      ]
     },
     "execution_count": 34,
     "metadata": {},
     "output_type": "execute_result"
    }
   ],
   "source": [
    "df['units_2k'].value_counts()"
   ]
  },
  {
   "cell_type": "code",
   "execution_count": 35,
   "metadata": {},
   "outputs": [
    {
     "data": {
      "text/plain": [
       "0    705\n",
       "1    636\n",
       "Name: women, dtype: int64"
      ]
     },
     "execution_count": 35,
     "metadata": {},
     "output_type": "execute_result"
    }
   ],
   "source": [
    "df['women'].value_counts()"
   ]
  },
  {
   "cell_type": "code",
   "execution_count": 36,
   "metadata": {},
   "outputs": [
    {
     "data": {
      "text/plain": [
       "0    838\n",
       "1    503\n",
       "Name: summer, dtype: int64"
      ]
     },
     "execution_count": 36,
     "metadata": {},
     "output_type": "execute_result"
    }
   ],
   "source": [
    "df['summer'].value_counts()"
   ]
  },
  {
   "cell_type": "code",
   "execution_count": 37,
   "metadata": {},
   "outputs": [
    {
     "data": {
      "text/plain": [
       "0    1242\n",
       "1      99\n",
       "Name: fashion, dtype: int64"
      ]
     },
     "execution_count": 37,
     "metadata": {},
     "output_type": "execute_result"
    }
   ],
   "source": [
    "df['fashion'].value_counts()"
   ]
  },
  {
   "cell_type": "markdown",
   "metadata": {},
   "source": [
    "### Basic Graphing"
   ]
  },
  {
   "cell_type": "code",
   "execution_count": 38,
   "metadata": {},
   "outputs": [
    {
     "data": {
      "image/png": "[encoded data removed]",
      "text/plain": [
       "<Figure size 432x288 with 1 Axes>"
      ]
     },
     "metadata": {
      "needs_background": "light"
     },
     "output_type": "display_data"
    }
   ],
   "source": [
    "sns.countplot(y='uses_ad_boosts', data=df)\n",
    "plt.show()"
   ]
  },
  {
   "cell_type": "code",
   "execution_count": 39,
   "metadata": {},
   "outputs": [
    {
     "data": {
      "text/html": [
       "<div>\n",
       "<style scoped>\n",
       "    .dataframe tbody tr th:only-of-type {\n",
       "        vertical-align: middle;\n",
       "    }\n",
       "\n",
       "    .dataframe tbody tr th {\n",
       "        vertical-align: top;\n",
       "    }\n",
       "\n",
       "    .dataframe thead th {\n",
       "        text-align: right;\n",
       "    }\n",
       "</style>\n",
       "<table border=\"1\" class=\"dataframe\">\n",
       "  <thead>\n",
       "    <tr style=\"text-align: right;\">\n",
       "      <th></th>\n",
       "      <th>price</th>\n",
       "      <th>retail_price</th>\n",
       "      <th>units_sold</th>\n",
       "      <th>uses_ad_boosts</th>\n",
       "      <th>rating</th>\n",
       "      <th>rating_count</th>\n",
       "      <th>rating_five_count</th>\n",
       "      <th>rating_four_count</th>\n",
       "      <th>rating_three_count</th>\n",
       "      <th>rating_two_count</th>\n",
       "      <th>rating_one_count</th>\n",
       "      <th>badge_local_product</th>\n",
       "      <th>badge_product_quality</th>\n",
       "      <th>badge_fast_shipping</th>\n",
       "      <th>inventory_total</th>\n",
       "      <th>merchant_rating_count</th>\n",
       "      <th>merchant_rating</th>\n",
       "      <th>women</th>\n",
       "      <th>summer</th>\n",
       "      <th>fashion</th>\n",
       "    </tr>\n",
       "  </thead>\n",
       "  <tbody>\n",
       "    <tr>\n",
       "      <th>price</th>\n",
       "      <td>1.000000</td>\n",
       "      <td>0.317633</td>\n",
       "      <td>-0.043776</td>\n",
       "      <td>-0.070149</td>\n",
       "      <td>0.038876</td>\n",
       "      <td>-0.018927</td>\n",
       "      <td>-0.017760</td>\n",
       "      <td>-0.014937</td>\n",
       "      <td>-0.027788</td>\n",
       "      <td>-0.024660</td>\n",
       "      <td>-0.010098</td>\n",
       "      <td>0.067544</td>\n",
       "      <td>0.006904</td>\n",
       "      <td>0.084594</td>\n",
       "      <td>-0.177681</td>\n",
       "      <td>-0.030318</td>\n",
       "      <td>0.034921</td>\n",
       "      <td>0.033507</td>\n",
       "      <td>0.067167</td>\n",
       "      <td>0.010872</td>\n",
       "    </tr>\n",
       "    <tr>\n",
       "      <th>retail_price</th>\n",
       "      <td>0.317633</td>\n",
       "      <td>1.000000</td>\n",
       "      <td>0.008808</td>\n",
       "      <td>-0.024980</td>\n",
       "      <td>0.031452</td>\n",
       "      <td>0.052739</td>\n",
       "      <td>0.050524</td>\n",
       "      <td>0.060242</td>\n",
       "      <td>0.046990</td>\n",
       "      <td>0.044598</td>\n",
       "      <td>0.050200</td>\n",
       "      <td>0.024632</td>\n",
       "      <td>0.003361</td>\n",
       "      <td>0.035256</td>\n",
       "      <td>-0.001963</td>\n",
       "      <td>0.034837</td>\n",
       "      <td>0.063056</td>\n",
       "      <td>0.046111</td>\n",
       "      <td>0.008876</td>\n",
       "      <td>0.001390</td>\n",
       "    </tr>\n",
       "    <tr>\n",
       "      <th>units_sold</th>\n",
       "      <td>-0.043776</td>\n",
       "      <td>0.008808</td>\n",
       "      <td>1.000000</td>\n",
       "      <td>-0.023642</td>\n",
       "      <td>0.026177</td>\n",
       "      <td>0.898844</td>\n",
       "      <td>0.875780</td>\n",
       "      <td>0.891362</td>\n",
       "      <td>0.893082</td>\n",
       "      <td>0.865060</td>\n",
       "      <td>0.832029</td>\n",
       "      <td>-0.012681</td>\n",
       "      <td>0.063519</td>\n",
       "      <td>-0.004056</td>\n",
       "      <td>0.009375</td>\n",
       "      <td>0.272979</td>\n",
       "      <td>0.110917</td>\n",
       "      <td>-0.001521</td>\n",
       "      <td>-0.052851</td>\n",
       "      <td>-0.009454</td>\n",
       "    </tr>\n",
       "    <tr>\n",
       "      <th>uses_ad_boosts</th>\n",
       "      <td>-0.070149</td>\n",
       "      <td>-0.024980</td>\n",
       "      <td>-0.023642</td>\n",
       "      <td>1.000000</td>\n",
       "      <td>-0.035654</td>\n",
       "      <td>-0.053441</td>\n",
       "      <td>-0.051924</td>\n",
       "      <td>-0.052604</td>\n",
       "      <td>-0.051418</td>\n",
       "      <td>-0.054251</td>\n",
       "      <td>-0.051333</td>\n",
       "      <td>0.061073</td>\n",
       "      <td>0.015230</td>\n",
       "      <td>0.047411</td>\n",
       "      <td>0.046294</td>\n",
       "      <td>0.027459</td>\n",
       "      <td>-0.045963</td>\n",
       "      <td>-0.126429</td>\n",
       "      <td>-0.071618</td>\n",
       "      <td>-0.035166</td>\n",
       "    </tr>\n",
       "    <tr>\n",
       "      <th>rating</th>\n",
       "      <td>0.038876</td>\n",
       "      <td>0.031452</td>\n",
       "      <td>0.026177</td>\n",
       "      <td>-0.035654</td>\n",
       "      <td>1.000000</td>\n",
       "      <td>0.043586</td>\n",
       "      <td>0.092078</td>\n",
       "      <td>0.053182</td>\n",
       "      <td>-0.000068</td>\n",
       "      <td>-0.042579</td>\n",
       "      <td>-0.082028</td>\n",
       "      <td>-0.000576</td>\n",
       "      <td>0.279500</td>\n",
       "      <td>-0.016298</td>\n",
       "      <td>-0.058204</td>\n",
       "      <td>0.026364</td>\n",
       "      <td>0.257697</td>\n",
       "      <td>-0.026799</td>\n",
       "      <td>-0.065484</td>\n",
       "      <td>-0.017072</td>\n",
       "    </tr>\n",
       "    <tr>\n",
       "      <th>rating_count</th>\n",
       "      <td>-0.018927</td>\n",
       "      <td>0.052739</td>\n",
       "      <td>0.898844</td>\n",
       "      <td>-0.053441</td>\n",
       "      <td>0.043586</td>\n",
       "      <td>1.000000</td>\n",
       "      <td>0.982780</td>\n",
       "      <td>0.995927</td>\n",
       "      <td>0.981152</td>\n",
       "      <td>0.944917</td>\n",
       "      <td>0.909675</td>\n",
       "      <td>-0.006669</td>\n",
       "      <td>0.084762</td>\n",
       "      <td>0.044405</td>\n",
       "      <td>0.011621</td>\n",
       "      <td>0.259842</td>\n",
       "      <td>0.131073</td>\n",
       "      <td>0.005851</td>\n",
       "      <td>-0.037401</td>\n",
       "      <td>-0.002694</td>\n",
       "    </tr>\n",
       "    <tr>\n",
       "      <th>rating_five_count</th>\n",
       "      <td>-0.017760</td>\n",
       "      <td>0.050524</td>\n",
       "      <td>0.875780</td>\n",
       "      <td>-0.051924</td>\n",
       "      <td>0.092078</td>\n",
       "      <td>0.982780</td>\n",
       "      <td>1.000000</td>\n",
       "      <td>0.980538</td>\n",
       "      <td>0.930847</td>\n",
       "      <td>0.870344</td>\n",
       "      <td>0.824609</td>\n",
       "      <td>-0.001889</td>\n",
       "      <td>0.144146</td>\n",
       "      <td>0.038481</td>\n",
       "      <td>0.003072</td>\n",
       "      <td>0.248453</td>\n",
       "      <td>0.154902</td>\n",
       "      <td>-0.004024</td>\n",
       "      <td>-0.052126</td>\n",
       "      <td>-0.014464</td>\n",
       "    </tr>\n",
       "    <tr>\n",
       "      <th>rating_four_count</th>\n",
       "      <td>-0.014937</td>\n",
       "      <td>0.060242</td>\n",
       "      <td>0.891362</td>\n",
       "      <td>-0.052604</td>\n",
       "      <td>0.053182</td>\n",
       "      <td>0.995927</td>\n",
       "      <td>0.980538</td>\n",
       "      <td>1.000000</td>\n",
       "      <td>0.976235</td>\n",
       "      <td>0.932100</td>\n",
       "      <td>0.890413</td>\n",
       "      <td>-0.010327</td>\n",
       "      <td>0.081300</td>\n",
       "      <td>0.039638</td>\n",
       "      <td>0.016785</td>\n",
       "      <td>0.254015</td>\n",
       "      <td>0.133419</td>\n",
       "      <td>0.005913</td>\n",
       "      <td>-0.039280</td>\n",
       "      <td>-0.003818</td>\n",
       "    </tr>\n",
       "    <tr>\n",
       "      <th>rating_three_count</th>\n",
       "      <td>-0.027788</td>\n",
       "      <td>0.046990</td>\n",
       "      <td>0.893082</td>\n",
       "      <td>-0.051418</td>\n",
       "      <td>-0.000068</td>\n",
       "      <td>0.981152</td>\n",
       "      <td>0.930847</td>\n",
       "      <td>0.976235</td>\n",
       "      <td>1.000000</td>\n",
       "      <td>0.984615</td>\n",
       "      <td>0.951803</td>\n",
       "      <td>-0.012195</td>\n",
       "      <td>0.022477</td>\n",
       "      <td>0.044034</td>\n",
       "      <td>0.019574</td>\n",
       "      <td>0.266071</td>\n",
       "      <td>0.100481</td>\n",
       "      <td>0.015626</td>\n",
       "      <td>-0.021899</td>\n",
       "      <td>0.007951</td>\n",
       "    </tr>\n",
       "    <tr>\n",
       "      <th>rating_two_count</th>\n",
       "      <td>-0.024660</td>\n",
       "      <td>0.044598</td>\n",
       "      <td>0.865060</td>\n",
       "      <td>-0.054251</td>\n",
       "      <td>-0.042579</td>\n",
       "      <td>0.944917</td>\n",
       "      <td>0.870344</td>\n",
       "      <td>0.932100</td>\n",
       "      <td>0.984615</td>\n",
       "      <td>1.000000</td>\n",
       "      <td>0.983163</td>\n",
       "      <td>-0.013798</td>\n",
       "      <td>-0.017127</td>\n",
       "      <td>0.053182</td>\n",
       "      <td>0.021282</td>\n",
       "      <td>0.261501</td>\n",
       "      <td>0.080008</td>\n",
       "      <td>0.025134</td>\n",
       "      <td>-0.007638</td>\n",
       "      <td>0.017282</td>\n",
       "    </tr>\n",
       "    <tr>\n",
       "      <th>rating_one_count</th>\n",
       "      <td>-0.010098</td>\n",
       "      <td>0.050200</td>\n",
       "      <td>0.832029</td>\n",
       "      <td>-0.051333</td>\n",
       "      <td>-0.082028</td>\n",
       "      <td>0.909675</td>\n",
       "      <td>0.824609</td>\n",
       "      <td>0.890413</td>\n",
       "      <td>0.951803</td>\n",
       "      <td>0.983163</td>\n",
       "      <td>1.000000</td>\n",
       "      <td>-0.006943</td>\n",
       "      <td>-0.037910</td>\n",
       "      <td>0.063952</td>\n",
       "      <td>0.019785</td>\n",
       "      <td>0.249349</td>\n",
       "      <td>0.066647</td>\n",
       "      <td>0.021542</td>\n",
       "      <td>-0.001153</td>\n",
       "      <td>0.024215</td>\n",
       "    </tr>\n",
       "    <tr>\n",
       "      <th>badge_local_product</th>\n",
       "      <td>0.067544</td>\n",
       "      <td>0.024632</td>\n",
       "      <td>-0.012681</td>\n",
       "      <td>0.061073</td>\n",
       "      <td>-0.000576</td>\n",
       "      <td>-0.006669</td>\n",
       "      <td>-0.001889</td>\n",
       "      <td>-0.010327</td>\n",
       "      <td>-0.012195</td>\n",
       "      <td>-0.013798</td>\n",
       "      <td>-0.006943</td>\n",
       "      <td>1.000000</td>\n",
       "      <td>0.055153</td>\n",
       "      <td>0.379655</td>\n",
       "      <td>-0.007771</td>\n",
       "      <td>-0.011091</td>\n",
       "      <td>0.118245</td>\n",
       "      <td>-0.002921</td>\n",
       "      <td>0.005358</td>\n",
       "      <td>0.098388</td>\n",
       "    </tr>\n",
       "    <tr>\n",
       "      <th>badge_product_quality</th>\n",
       "      <td>0.006904</td>\n",
       "      <td>0.003361</td>\n",
       "      <td>0.063519</td>\n",
       "      <td>0.015230</td>\n",
       "      <td>0.279500</td>\n",
       "      <td>0.084762</td>\n",
       "      <td>0.144146</td>\n",
       "      <td>0.081300</td>\n",
       "      <td>0.022477</td>\n",
       "      <td>-0.017127</td>\n",
       "      <td>-0.037910</td>\n",
       "      <td>0.055153</td>\n",
       "      <td>1.000000</td>\n",
       "      <td>0.012420</td>\n",
       "      <td>-0.068562</td>\n",
       "      <td>0.086993</td>\n",
       "      <td>0.209629</td>\n",
       "      <td>0.020523</td>\n",
       "      <td>-0.069160</td>\n",
       "      <td>-0.017890</td>\n",
       "    </tr>\n",
       "    <tr>\n",
       "      <th>badge_fast_shipping</th>\n",
       "      <td>0.084594</td>\n",
       "      <td>0.035256</td>\n",
       "      <td>-0.004056</td>\n",
       "      <td>0.047411</td>\n",
       "      <td>-0.016298</td>\n",
       "      <td>0.044405</td>\n",
       "      <td>0.038481</td>\n",
       "      <td>0.039638</td>\n",
       "      <td>0.044034</td>\n",
       "      <td>0.053182</td>\n",
       "      <td>0.063952</td>\n",
       "      <td>0.379655</td>\n",
       "      <td>0.012420</td>\n",
       "      <td>1.000000</td>\n",
       "      <td>-0.122887</td>\n",
       "      <td>-0.022590</td>\n",
       "      <td>0.057319</td>\n",
       "      <td>0.012495</td>\n",
       "      <td>0.037446</td>\n",
       "      <td>0.038543</td>\n",
       "    </tr>\n",
       "    <tr>\n",
       "      <th>inventory_total</th>\n",
       "      <td>-0.177681</td>\n",
       "      <td>-0.001963</td>\n",
       "      <td>0.009375</td>\n",
       "      <td>0.046294</td>\n",
       "      <td>-0.058204</td>\n",
       "      <td>0.011621</td>\n",
       "      <td>0.003072</td>\n",
       "      <td>0.016785</td>\n",
       "      <td>0.019574</td>\n",
       "      <td>0.021282</td>\n",
       "      <td>0.019785</td>\n",
       "      <td>-0.007771</td>\n",
       "      <td>-0.068562</td>\n",
       "      <td>-0.122887</td>\n",
       "      <td>1.000000</td>\n",
       "      <td>0.015693</td>\n",
       "      <td>-0.081334</td>\n",
       "      <td>-0.007931</td>\n",
       "      <td>0.012440</td>\n",
       "      <td>0.008992</td>\n",
       "    </tr>\n",
       "    <tr>\n",
       "      <th>merchant_rating_count</th>\n",
       "      <td>-0.030318</td>\n",
       "      <td>0.034837</td>\n",
       "      <td>0.272979</td>\n",
       "      <td>0.027459</td>\n",
       "      <td>0.026364</td>\n",
       "      <td>0.259842</td>\n",
       "      <td>0.248453</td>\n",
       "      <td>0.254015</td>\n",
       "      <td>0.266071</td>\n",
       "      <td>0.261501</td>\n",
       "      <td>0.249349</td>\n",
       "      <td>-0.011091</td>\n",
       "      <td>0.086993</td>\n",
       "      <td>-0.022590</td>\n",
       "      <td>0.015693</td>\n",
       "      <td>1.000000</td>\n",
       "      <td>0.131447</td>\n",
       "      <td>0.022475</td>\n",
       "      <td>-0.055171</td>\n",
       "      <td>0.022506</td>\n",
       "    </tr>\n",
       "    <tr>\n",
       "      <th>merchant_rating</th>\n",
       "      <td>0.034921</td>\n",
       "      <td>0.063056</td>\n",
       "      <td>0.110917</td>\n",
       "      <td>-0.045963</td>\n",
       "      <td>0.257697</td>\n",
       "      <td>0.131073</td>\n",
       "      <td>0.154902</td>\n",
       "      <td>0.133419</td>\n",
       "      <td>0.100481</td>\n",
       "      <td>0.080008</td>\n",
       "      <td>0.066647</td>\n",
       "      <td>0.118245</td>\n",
       "      <td>0.209629</td>\n",
       "      <td>0.057319</td>\n",
       "      <td>-0.081334</td>\n",
       "      <td>0.131447</td>\n",
       "      <td>1.000000</td>\n",
       "      <td>-0.018515</td>\n",
       "      <td>-0.086502</td>\n",
       "      <td>0.032358</td>\n",
       "    </tr>\n",
       "    <tr>\n",
       "      <th>women</th>\n",
       "      <td>0.033507</td>\n",
       "      <td>0.046111</td>\n",
       "      <td>-0.001521</td>\n",
       "      <td>-0.126429</td>\n",
       "      <td>-0.026799</td>\n",
       "      <td>0.005851</td>\n",
       "      <td>-0.004024</td>\n",
       "      <td>0.005913</td>\n",
       "      <td>0.015626</td>\n",
       "      <td>0.025134</td>\n",
       "      <td>0.021542</td>\n",
       "      <td>-0.002921</td>\n",
       "      <td>0.020523</td>\n",
       "      <td>0.012495</td>\n",
       "      <td>-0.007931</td>\n",
       "      <td>0.022475</td>\n",
       "      <td>-0.018515</td>\n",
       "      <td>1.000000</td>\n",
       "      <td>0.208028</td>\n",
       "      <td>0.177315</td>\n",
       "    </tr>\n",
       "    <tr>\n",
       "      <th>summer</th>\n",
       "      <td>0.067167</td>\n",
       "      <td>0.008876</td>\n",
       "      <td>-0.052851</td>\n",
       "      <td>-0.071618</td>\n",
       "      <td>-0.065484</td>\n",
       "      <td>-0.037401</td>\n",
       "      <td>-0.052126</td>\n",
       "      <td>-0.039280</td>\n",
       "      <td>-0.021899</td>\n",
       "      <td>-0.007638</td>\n",
       "      <td>-0.001153</td>\n",
       "      <td>0.005358</td>\n",
       "      <td>-0.069160</td>\n",
       "      <td>0.037446</td>\n",
       "      <td>0.012440</td>\n",
       "      <td>-0.055171</td>\n",
       "      <td>-0.086502</td>\n",
       "      <td>0.208028</td>\n",
       "      <td>1.000000</td>\n",
       "      <td>0.087565</td>\n",
       "    </tr>\n",
       "    <tr>\n",
       "      <th>fashion</th>\n",
       "      <td>0.010872</td>\n",
       "      <td>0.001390</td>\n",
       "      <td>-0.009454</td>\n",
       "      <td>-0.035166</td>\n",
       "      <td>-0.017072</td>\n",
       "      <td>-0.002694</td>\n",
       "      <td>-0.014464</td>\n",
       "      <td>-0.003818</td>\n",
       "      <td>0.007951</td>\n",
       "      <td>0.017282</td>\n",
       "      <td>0.024215</td>\n",
       "      <td>0.098388</td>\n",
       "      <td>-0.017890</td>\n",
       "      <td>0.038543</td>\n",
       "      <td>0.008992</td>\n",
       "      <td>0.022506</td>\n",
       "      <td>0.032358</td>\n",
       "      <td>0.177315</td>\n",
       "      <td>0.087565</td>\n",
       "      <td>1.000000</td>\n",
       "    </tr>\n",
       "  </tbody>\n",
       "</table>\n",
       "</div>"
      ],
      "text/plain": [
       "                          price  retail_price  units_sold  uses_ad_boosts  \\\n",
       "price                  1.000000      0.317633   -0.043776       -0.070149   \n",
       "retail_price           0.317633      1.000000    0.008808       -0.024980   \n",
       "units_sold            -0.043776      0.008808    1.000000       -0.023642   \n",
       "uses_ad_boosts        -0.070149     -0.024980   -0.023642        1.000000   \n",
       "rating                 0.038876      0.031452    0.026177       -0.035654   \n",
       "rating_count          -0.018927      0.052739    0.898844       -0.053441   \n",
       "rating_five_count     -0.017760      0.050524    0.875780       -0.051924   \n",
       "rating_four_count     -0.014937      0.060242    0.891362       -0.052604   \n",
       "rating_three_count    -0.027788      0.046990    0.893082       -0.051418   \n",
       "rating_two_count      -0.024660      0.044598    0.865060       -0.054251   \n",
       "rating_one_count      -0.010098      0.050200    0.832029       -0.051333   \n",
       "badge_local_product    0.067544      0.024632   -0.012681        0.061073   \n",
       "badge_product_quality  0.006904      0.003361    0.063519        0.015230   \n",
       "badge_fast_shipping    0.084594      0.035256   -0.004056        0.047411   \n",
       "inventory_total       -0.177681     -0.001963    0.009375        0.046294   \n",
       "merchant_rating_count -0.030318      0.034837    0.272979        0.027459   \n",
       "merchant_rating        0.034921      0.063056    0.110917       -0.045963   \n",
       "women                  0.033507      0.046111   -0.001521       -0.126429   \n",
       "summer                 0.067167      0.008876   -0.052851       -0.071618   \n",
       "fashion                0.010872      0.001390   -0.009454       -0.035166   \n",
       "\n",
       "                         rating  rating_count  rating_five_count  \\\n",
       "price                  0.038876     -0.018927          -0.017760   \n",
       "retail_price           0.031452      0.052739           0.050524   \n",
       "units_sold             0.026177      0.898844           0.875780   \n",
       "uses_ad_boosts        -0.035654     -0.053441          -0.051924   \n",
       "rating                 1.000000      0.043586           0.092078   \n",
       "rating_count           0.043586      1.000000           0.982780   \n",
       "rating_five_count      0.092078      0.982780           1.000000   \n",
       "rating_four_count      0.053182      0.995927           0.980538   \n",
       "rating_three_count    -0.000068      0.981152           0.930847   \n",
       "rating_two_count      -0.042579      0.944917           0.870344   \n",
       "rating_one_count      -0.082028      0.909675           0.824609   \n",
       "badge_local_product   -0.000576     -0.006669          -0.001889   \n",
       "badge_product_quality  0.279500      0.084762           0.144146   \n",
       "badge_fast_shipping   -0.016298      0.044405           0.038481   \n",
       "inventory_total       -0.058204      0.011621           0.003072   \n",
       "merchant_rating_count  0.026364      0.259842           0.248453   \n",
       "merchant_rating        0.257697      0.131073           0.154902   \n",
       "women                 -0.026799      0.005851          -0.004024   \n",
       "summer                -0.065484     -0.037401          -0.052126   \n",
       "fashion               -0.017072     -0.002694          -0.014464   \n",
       "\n",
       "                       rating_four_count  rating_three_count  \\\n",
       "price                          -0.014937           -0.027788   \n",
       "retail_price                    0.060242            0.046990   \n",
       "units_sold                      0.891362            0.893082   \n",
       "uses_ad_boosts                 -0.052604           -0.051418   \n",
       "rating                          0.053182           -0.000068   \n",
       "rating_count                    0.995927            0.981152   \n",
       "rating_five_count               0.980538            0.930847   \n",
       "rating_four_count               1.000000            0.976235   \n",
       "rating_three_count              0.976235            1.000000   \n",
       "rating_two_count                0.932100            0.984615   \n",
       "rating_one_count                0.890413            0.951803   \n",
       "badge_local_product            -0.010327           -0.012195   \n",
       "badge_product_quality           0.081300            0.022477   \n",
       "badge_fast_shipping             0.039638            0.044034   \n",
       "inventory_total                 0.016785            0.019574   \n",
       "merchant_rating_count           0.254015            0.266071   \n",
       "merchant_rating                 0.133419            0.100481   \n",
       "women                           0.005913            0.015626   \n",
       "summer                         -0.039280           -0.021899   \n",
       "fashion                        -0.003818            0.007951   \n",
       "\n",
       "                       rating_two_count  rating_one_count  \\\n",
       "price                         -0.024660         -0.010098   \n",
       "retail_price                   0.044598          0.050200   \n",
       "units_sold                     0.865060          0.832029   \n",
       "uses_ad_boosts                -0.054251         -0.051333   \n",
       "rating                        -0.042579         -0.082028   \n",
       "rating_count                   0.944917          0.909675   \n",
       "rating_five_count              0.870344          0.824609   \n",
       "rating_four_count              0.932100          0.890413   \n",
       "rating_three_count             0.984615          0.951803   \n",
       "rating_two_count               1.000000          0.983163   \n",
       "rating_one_count               0.983163          1.000000   \n",
       "badge_local_product           -0.013798         -0.006943   \n",
       "badge_product_quality         -0.017127         -0.037910   \n",
       "badge_fast_shipping            0.053182          0.063952   \n",
       "inventory_total                0.021282          0.019785   \n",
       "merchant_rating_count          0.261501          0.249349   \n",
       "merchant_rating                0.080008          0.066647   \n",
       "women                          0.025134          0.021542   \n",
       "summer                        -0.007638         -0.001153   \n",
       "fashion                        0.017282          0.024215   \n",
       "\n",
       "                       badge_local_product  badge_product_quality  \\\n",
       "price                             0.067544               0.006904   \n",
       "retail_price                      0.024632               0.003361   \n",
       "units_sold                       -0.012681               0.063519   \n",
       "uses_ad_boosts                    0.061073               0.015230   \n",
       "rating                           -0.000576               0.279500   \n",
       "rating_count                     -0.006669               0.084762   \n",
       "rating_five_count                -0.001889               0.144146   \n",
       "rating_four_count                -0.010327               0.081300   \n",
       "rating_three_count               -0.012195               0.022477   \n",
       "rating_two_count                 -0.013798              -0.017127   \n",
       "rating_one_count                 -0.006943              -0.037910   \n",
       "badge_local_product               1.000000               0.055153   \n",
       "badge_product_quality             0.055153               1.000000   \n",
       "badge_fast_shipping               0.379655               0.012420   \n",
       "inventory_total                  -0.007771              -0.068562   \n",
       "merchant_rating_count            -0.011091               0.086993   \n",
       "merchant_rating                   0.118245               0.209629   \n",
       "women                            -0.002921               0.020523   \n",
       "summer                            0.005358              -0.069160   \n",
       "fashion                           0.098388              -0.017890   \n",
       "\n",
       "                       badge_fast_shipping  inventory_total  \\\n",
       "price                             0.084594        -0.177681   \n",
       "retail_price                      0.035256        -0.001963   \n",
       "units_sold                       -0.004056         0.009375   \n",
       "uses_ad_boosts                    0.047411         0.046294   \n",
       "rating                           -0.016298        -0.058204   \n",
       "rating_count                      0.044405         0.011621   \n",
       "rating_five_count                 0.038481         0.003072   \n",
       "rating_four_count                 0.039638         0.016785   \n",
       "rating_three_count                0.044034         0.019574   \n",
       "rating_two_count                  0.053182         0.021282   \n",
       "rating_one_count                  0.063952         0.019785   \n",
       "badge_local_product               0.379655        -0.007771   \n",
       "badge_product_quality             0.012420        -0.068562   \n",
       "badge_fast_shipping               1.000000        -0.122887   \n",
       "inventory_total                  -0.122887         1.000000   \n",
       "merchant_rating_count            -0.022590         0.015693   \n",
       "merchant_rating                   0.057319        -0.081334   \n",
       "women                             0.012495        -0.007931   \n",
       "summer                            0.037446         0.012440   \n",
       "fashion                           0.038543         0.008992   \n",
       "\n",
       "                       merchant_rating_count  merchant_rating     women  \\\n",
       "price                              -0.030318         0.034921  0.033507   \n",
       "retail_price                        0.034837         0.063056  0.046111   \n",
       "units_sold                          0.272979         0.110917 -0.001521   \n",
       "uses_ad_boosts                      0.027459        -0.045963 -0.126429   \n",
       "rating                              0.026364         0.257697 -0.026799   \n",
       "rating_count                        0.259842         0.131073  0.005851   \n",
       "rating_five_count                   0.248453         0.154902 -0.004024   \n",
       "rating_four_count                   0.254015         0.133419  0.005913   \n",
       "rating_three_count                  0.266071         0.100481  0.015626   \n",
       "rating_two_count                    0.261501         0.080008  0.025134   \n",
       "rating_one_count                    0.249349         0.066647  0.021542   \n",
       "badge_local_product                -0.011091         0.118245 -0.002921   \n",
       "badge_product_quality               0.086993         0.209629  0.020523   \n",
       "badge_fast_shipping                -0.022590         0.057319  0.012495   \n",
       "inventory_total                     0.015693        -0.081334 -0.007931   \n",
       "merchant_rating_count               1.000000         0.131447  0.022475   \n",
       "merchant_rating                     0.131447         1.000000 -0.018515   \n",
       "women                               0.022475        -0.018515  1.000000   \n",
       "summer                             -0.055171        -0.086502  0.208028   \n",
       "fashion                             0.022506         0.032358  0.177315   \n",
       "\n",
       "                         summer   fashion  \n",
       "price                  0.067167  0.010872  \n",
       "retail_price           0.008876  0.001390  \n",
       "units_sold            -0.052851 -0.009454  \n",
       "uses_ad_boosts        -0.071618 -0.035166  \n",
       "rating                -0.065484 -0.017072  \n",
       "rating_count          -0.037401 -0.002694  \n",
       "rating_five_count     -0.052126 -0.014464  \n",
       "rating_four_count     -0.039280 -0.003818  \n",
       "rating_three_count    -0.021899  0.007951  \n",
       "rating_two_count      -0.007638  0.017282  \n",
       "rating_one_count      -0.001153  0.024215  \n",
       "badge_local_product    0.005358  0.098388  \n",
       "badge_product_quality -0.069160 -0.017890  \n",
       "badge_fast_shipping    0.037446  0.038543  \n",
       "inventory_total        0.012440  0.008992  \n",
       "merchant_rating_count -0.055171  0.022506  \n",
       "merchant_rating       -0.086502  0.032358  \n",
       "women                  0.208028  0.177315  \n",
       "summer                 1.000000  0.087565  \n",
       "fashion                0.087565  1.000000  "
      ]
     },
     "execution_count": 39,
     "metadata": {},
     "output_type": "execute_result"
    }
   ],
   "source": [
    "df.corr(method ='pearson')"
   ]
  },
  {
   "cell_type": "code",
   "execution_count": 40,
   "metadata": {},
   "outputs": [
    {
     "data": {
      "image/png": "[encoded data removed]",
      "text/plain": [
       "<Figure size 432x288 with 1 Axes>"
      ]
     },
     "metadata": {
      "needs_background": "light"
     },
     "output_type": "display_data"
    }
   ],
   "source": [
    "plt.rcParams['axes.facecolor'] = 'white'\n",
    "ax = sns.scatterplot(x=\"price\", y=\"retail_price\", data=df)"
   ]
  },
  {
   "cell_type": "code",
   "execution_count": 41,
   "metadata": {},
   "outputs": [
    {
     "data": {
      "image/png": "[encoded data removed]",
      "text/plain": [
       "<Figure size 432x288 with 1 Axes>"
      ]
     },
     "metadata": {
      "needs_background": "light"
     },
     "output_type": "display_data"
    }
   ],
   "source": [
    "ax = sns.scatterplot(x=\"rating_five_count\", y=\"price\", data=df)"
   ]
  },
  {
   "cell_type": "code",
   "execution_count": 42,
   "metadata": {},
   "outputs": [
    {
     "data": {
      "image/png": "[encoded data removed]",
      "text/plain": [
       "<Figure size 432x288 with 1 Axes>"
      ]
     },
     "metadata": {
      "needs_background": "light"
     },
     "output_type": "display_data"
    }
   ],
   "source": [
    "ax = sns.scatterplot(x=\"merchant_rating\", y=\"rating\", data=df)"
   ]
  },
  {
   "cell_type": "code",
   "execution_count": 43,
   "metadata": {},
   "outputs": [
    {
     "data": {
      "image/png": "[encoded data removed]",
      "text/plain": [
       "<Figure size 432x288 with 1 Axes>"
      ]
     },
     "metadata": {
      "needs_background": "light"
     },
     "output_type": "display_data"
    }
   ],
   "source": [
    "ax = sns.scatterplot(x=\"summer\", y=\"price\", data=df)"
   ]
  },
  {
   "cell_type": "code",
   "execution_count": 44,
   "metadata": {},
   "outputs": [
    {
     "data": {
      "text/plain": [
       "<matplotlib.axes._subplots.AxesSubplot at 0x19e705b0a60>"
      ]
     },
     "execution_count": 44,
     "metadata": {},
     "output_type": "execute_result"
    },
    {
     "data": {
      "image/png": "[encoded data removed]",
      "text/plain": [
       "<Figure size 576x432 with 1 Axes>"
      ]
     },
     "metadata": {
      "needs_background": "light"
     },
     "output_type": "display_data"
    }
   ],
   "source": [
    "plt.figure(figsize=(8, 6))\n",
    "sns.boxplot(x='urgency_text', y='price', data=df, hue='summer', palette='Set3')"
   ]
  },
  {
   "cell_type": "code",
   "execution_count": 45,
   "metadata": {},
   "outputs": [
    {
     "data": {
      "text/plain": [
       "<matplotlib.axes._subplots.AxesSubplot at 0x19e706fbee0>"
      ]
     },
     "execution_count": 45,
     "metadata": {},
     "output_type": "execute_result"
    },
    {
     "data": {
      "image/png": "[encoded data removed]",
      "text/plain": [
       "<Figure size 576x432 with 1 Axes>"
      ]
     },
     "metadata": {
      "needs_background": "light"
     },
     "output_type": "display_data"
    }
   ],
   "source": [
    "plt.figure(figsize=(8, 6))\n",
    "sns.boxplot(x='badge_product_quality', y='units_sold', data=df, hue='fashion', palette='Set3')\n"
   ]
  },
  {
   "cell_type": "code",
   "execution_count": 46,
   "metadata": {},
   "outputs": [
    {
     "data": {
      "image/png": "[encoded data removed]",
      "text/plain": [
       "<Figure size 1008x1008 with 2 Axes>"
      ]
     },
     "metadata": {
      "needs_background": "light"
     },
     "output_type": "display_data"
    }
   ],
   "source": [
    "cols = ['price', 'retail_price', 'units_sold', 'uses_ad_boosts',\n",
    "       'rating', 'rating_count',\n",
    "       'inventory_total', 'merchant_rating_count',\n",
    "       'merchant_rating']\n",
    "\n",
    "cm = np.corrcoef(df[cols].values.T)\n",
    "\n",
    "plt.figure(figsize=(14, 14))\n",
    "\n",
    "sns.set(font_scale=1)\n",
    "\n",
    "sns.heatmap(cm, cbar=True, annot=True, square=True, fmt= '.2f',\n",
    "\n",
    "annot_kws={'size': 12}, yticklabels=cols, xticklabels=cols)\n",
    "\n",
    "plt.show()"
   ]
  },
  {
   "cell_type": "code",
   "execution_count": 47,
   "metadata": {},
   "outputs": [
    {
     "data": {
      "text/plain": [
       "Index(['title', 'price', 'retail_price', 'units_sold', 'uses_ad_boosts',\n",
       "       'rating', 'rating_count', 'rating_five_count', 'rating_four_count',\n",
       "       'rating_three_count', 'rating_two_count', 'rating_one_count',\n",
       "       'badge_local_product', 'badge_product_quality', 'badge_fast_shipping',\n",
       "       'tags', 'inventory_total', 'urgency_text', 'merchant_rating_count',\n",
       "       'merchant_rating', 'merchant_id', 'product_id', 'women', 'summer',\n",
       "       'fashion', 'units_2k'],\n",
       "      dtype='object')"
      ]
     },
     "execution_count": 47,
     "metadata": {},
     "output_type": "execute_result"
    }
   ],
   "source": [
    "df.columns"
   ]
  },
  {
   "cell_type": "code",
   "execution_count": 48,
   "metadata": {},
   "outputs": [
    {
     "data": {
      "image/png": "[encoded data removed]",
      "text/plain": [
       "<Figure size 816.05x720 with 20 Axes>"
      ]
     },
     "metadata": {},
     "output_type": "display_data"
    }
   ],
   "source": [
    "sns.pairplot(df, hue='uses_ad_boosts',vars=['price', 'rating_count','merchant_rating_count','units_sold'])\n",
    "plt.show()"
   ]
  },
  {
   "cell_type": "code",
   "execution_count": 49,
   "metadata": {
    "scrolled": true
   },
   "outputs": [
    {
     "name": "stdout",
     "output_type": "stream",
     "text": [
      "<class 'pandas.core.frame.DataFrame'>\n",
      "Int64Index: 1341 entries, 0 to 1572\n",
      "Data columns (total 26 columns):\n",
      " #   Column                 Non-Null Count  Dtype  \n",
      "---  ------                 --------------  -----  \n",
      " 0   title                  1341 non-null   object \n",
      " 1   price                  1341 non-null   float64\n",
      " 2   retail_price           1341 non-null   int64  \n",
      " 3   units_sold             1341 non-null   int64  \n",
      " 4   uses_ad_boosts         1341 non-null   int64  \n",
      " 5   rating                 1341 non-null   float64\n",
      " 6   rating_count           1341 non-null   int64  \n",
      " 7   rating_five_count      1341 non-null   float64\n",
      " 8   rating_four_count      1341 non-null   float64\n",
      " 9   rating_three_count     1341 non-null   float64\n",
      " 10  rating_two_count       1341 non-null   float64\n",
      " 11  rating_one_count       1341 non-null   float64\n",
      " 12  badge_local_product    1341 non-null   int64  \n",
      " 13  badge_product_quality  1341 non-null   int64  \n",
      " 14  badge_fast_shipping    1341 non-null   int64  \n",
      " 15  tags                   1341 non-null   object \n",
      " 16  inventory_total        1341 non-null   int64  \n",
      " 17  urgency_text           1341 non-null   object \n",
      " 18  merchant_rating_count  1341 non-null   int64  \n",
      " 19  merchant_rating        1341 non-null   float64\n",
      " 20  merchant_id            1341 non-null   object \n",
      " 21  product_id             1341 non-null   object \n",
      " 22  women                  1341 non-null   int64  \n",
      " 23  summer                 1341 non-null   int64  \n",
      " 24  fashion                1341 non-null   int64  \n",
      " 25  units_2k               1341 non-null   object \n",
      "dtypes: float64(8), int64(12), object(6)\n",
      "memory usage: 322.9+ KB\n"
     ]
    }
   ],
   "source": [
    "df.info()"
   ]
  },
  {
   "cell_type": "markdown",
   "metadata": {},
   "source": [
    "## <font color=\"#0000E0\">Part 2 Build Predictive Model</font>"
   ]
  },
  {
   "cell_type": "markdown",
   "metadata": {},
   "source": [
    "### Prepare Data for Training\n",
    "#### Define Predictors and Target Variable\n"
   ]
  },
  {
   "cell_type": "code",
   "execution_count": 50,
   "metadata": {},
   "outputs": [],
   "source": [
    "#Predictors:\n",
    "    #retail_price\n",
    "    #uses_ad_boosts\n",
    "    #rating_count\n",
    "    #badge_fast_shipping\n",
    "    #merchant_rating_count\n",
    "    #women\n",
    "    #summer\n",
    "    #fashion"
   ]
  },
  {
   "cell_type": "code",
   "execution_count": 51,
   "metadata": {},
   "outputs": [],
   "source": [
    "X1 = df[['retail_price', 'uses_ad_boosts', 'rating_count', 'badge_fast_shipping', 'merchant_rating_count','women','summer','fashion']]\n",
    "y1 = df['units_sold']"
   ]
  },
  {
   "cell_type": "markdown",
   "metadata": {},
   "source": [
    "### Split data into training and test sets"
   ]
  },
  {
   "cell_type": "code",
   "execution_count": 52,
   "metadata": {},
   "outputs": [
    {
     "name": "stdout",
     "output_type": "stream",
     "text": [
      "Shape of training set  (1005, 8)\n",
      "Shape of test set  (336, 8)\n"
     ]
    }
   ],
   "source": [
    "from sklearn.model_selection import train_test_split\n",
    "X_train1, X_test1, y_train1, y_test1 = train_test_split(X1, y1, \n",
    "                                                    test_size=0.25, # You can uncomment it to try out different size\n",
    "                                                    random_state=0)\n",
    "print('Shape of training set ', X_train1.shape)\n",
    "print('Shape of test set ', X_test1.shape)"
   ]
  },
  {
   "cell_type": "markdown",
   "metadata": {},
   "source": [
    "### Linear Regression"
   ]
  },
  {
   "cell_type": "code",
   "execution_count": 53,
   "metadata": {},
   "outputs": [
    {
     "data": {
      "text/plain": [
       "LinearRegression()"
      ]
     },
     "execution_count": 53,
     "metadata": {},
     "output_type": "execute_result"
    }
   ],
   "source": [
    "# step 1: import LinearRegression class\n",
    "from sklearn.linear_model import LinearRegression\n",
    "# step 2: create an instance of the model\n",
    "linear_model = LinearRegression()\n",
    "# step 3: train the model with training data\n",
    "linear_model.fit(X_train1, y_train1)"
   ]
  },
  {
   "cell_type": "code",
   "execution_count": 54,
   "metadata": {
    "scrolled": false
   },
   "outputs": [
    {
     "name": "stdout",
     "output_type": "stream",
     "text": [
      "Training score: 0.8372079726557339\n",
      "Test score:     0.7615821403941756\n"
     ]
    }
   ],
   "source": [
    "# Step 4: Get the scores of both training and test\n",
    "print('Training score:', linear_model.score(X_train1,y_train1))\n",
    "print('Test score:    ', linear_model.score(X_test1,y_test1))"
   ]
  },
  {
   "cell_type": "code",
   "execution_count": 55,
   "metadata": {},
   "outputs": [
    {
     "name": "stdout",
     "output_type": "stream",
     "text": [
      "Weights (coefficients): [   -4.27002952   250.92220503     4.37700542 -2559.34803898     0.00355018   -69.16426493  -625.588958      33.79202279]\n",
      "Bias (intercept): 751.58\n"
     ]
    }
   ],
   "source": [
    "# Get model parameters. These are learned through the training\n",
    "print(\"Weights (coefficients): {}\".format(linear_model.coef_))\n",
    "print(\"Bias (intercept): {:.2f}\".format(linear_model.intercept_))"
   ]
  },
  {
   "cell_type": "markdown",
   "metadata": {},
   "source": [
    "### Standardize Data"
   ]
  },
  {
   "cell_type": "code",
   "execution_count": 56,
   "metadata": {},
   "outputs": [],
   "source": [
    "X = df[['retail_price', 'uses_ad_boosts', 'rating_count', 'badge_fast_shipping', 'merchant_rating_count','women','summer','fashion']]\n",
    "y = df['units_2k'] ##using derived value of units sold for classification models"
   ]
  },
  {
   "cell_type": "code",
   "execution_count": 57,
   "metadata": {},
   "outputs": [],
   "source": [
    "X_train, X_test, y_train, y_test = train_test_split(X, y, \n",
    "                                                    test_size=0.25, # You can uncomment it to try out different size\n",
    "                                                    random_state=0\n",
    "                                                   )"
   ]
  },
  {
   "cell_type": "code",
   "execution_count": 58,
   "metadata": {},
   "outputs": [],
   "source": [
    "# Import the standardScaler\n",
    "from sklearn.preprocessing import StandardScaler\n",
    "# Create an instance of StandardScaler\n",
    "sc = StandardScaler()\n",
    "# Fit the training data to the scaler\n",
    "sc.fit(X_train) # calculate mean and std\n",
    "X_train_scaled = sc.transform(X_train) # get the z-score for training data\n",
    "X_test_scaled = sc.transform(X_test) # get the z-score for test data"
   ]
  },
  {
   "cell_type": "markdown",
   "metadata": {},
   "source": [
    "### KNN Classification"
   ]
  },
  {
   "cell_type": "code",
   "execution_count": 59,
   "metadata": {},
   "outputs": [
    {
     "data": {
      "text/plain": [
       "KNeighborsClassifier(n_neighbors=25)"
      ]
     },
     "execution_count": 59,
     "metadata": {},
     "output_type": "execute_result"
    }
   ],
   "source": [
    "# step 1: import KNeighborsClassifier\n",
    "from sklearn.neighbors import KNeighborsClassifier\n",
    "# step 2: Create an instance of the classifier\n",
    "knn = KNeighborsClassifier(n_neighbors=25)\n",
    "# step 3: fit the model with the scaled data\n",
    "knn.fit(X_train_scaled, y_train)"
   ]
  },
  {
   "cell_type": "code",
   "execution_count": 60,
   "metadata": {},
   "outputs": [
    {
     "name": "stdout",
     "output_type": "stream",
     "text": [
      "Training accuracy: 0.8646766169154229\n",
      "Test accuracy: 0.8541666666666666\n"
     ]
    }
   ],
   "source": [
    "# Step 4: print out the accuarcy of training and test data\n",
    "print('Training accuracy:',knn.score(X_train_scaled, y_train))\n",
    "print('Test accuracy:',knn.score(X_test_scaled, y_test))"
   ]
  },
  {
   "cell_type": "code",
   "execution_count": 61,
   "metadata": {},
   "outputs": [],
   "source": [
    "# Step 5: Make Predictions for the test set\n",
    "test_predicted_knn = knn.predict(X_test_scaled)\n",
    "y_test_pred_knn = pd.Series(knn.predict(X_test_scaled))"
   ]
  },
  {
   "cell_type": "markdown",
   "metadata": {},
   "source": [
    "### Logistic Regression"
   ]
  },
  {
   "cell_type": "code",
   "execution_count": 62,
   "metadata": {},
   "outputs": [
    {
     "data": {
      "text/plain": [
       "LogisticRegression(C=10, multi_class='ovr', random_state=1, solver='liblinear')"
      ]
     },
     "execution_count": 62,
     "metadata": {},
     "output_type": "execute_result"
    }
   ],
   "source": [
    "# Step 1: import LogisticRegression\n",
    "from sklearn.linear_model import LogisticRegression\n",
    "# Step 2: Create an instance of the classifier \n",
    "logReg = LogisticRegression(C=10, solver='liblinear', multi_class = 'ovr',\n",
    "                        random_state=1)\n",
    "# Step 3: fit the model with the scaled data\n",
    "logReg.fit(X_train_scaled, y_train)"
   ]
  },
  {
   "cell_type": "code",
   "execution_count": 63,
   "metadata": {},
   "outputs": [
    {
     "name": "stdout",
     "output_type": "stream",
     "text": [
      "Training accuracy: 0.9333333333333333\n",
      "Test accuracy: 0.9345238095238095\n"
     ]
    }
   ],
   "source": [
    "# Step 4: print out the accuarcy of training and test data\n",
    "print('Training accuracy:', logReg.score(X_train_scaled, y_train))\n",
    "print('Test accuracy:', logReg.score(X_test_scaled, y_test))"
   ]
  },
  {
   "cell_type": "code",
   "execution_count": 64,
   "metadata": {},
   "outputs": [
    {
     "name": "stdout",
     "output_type": "stream",
     "text": [
      "The Prediced Probabilities\n",
      "[[0.00532507 0.99467493]\n",
      " [0.02179086 0.97820914]\n",
      " [0.90225125 0.09774875]\n",
      " [0.00165705 0.99834295]\n",
      " [0.99193009 0.00806991]]\n"
     ]
    }
   ],
   "source": [
    "# Step 5: Make Predictions for the test set\n",
    "# Get the predicted probability and the predicted class\n",
    "test_predicted_logReg = logReg.predict(X_test_scaled)\n",
    "print('The Prediced Probabilities')\n",
    "print(logReg.predict_proba(X_test_scaled)[0:5])"
   ]
  },
  {
   "cell_type": "code",
   "execution_count": 65,
   "metadata": {},
   "outputs": [],
   "source": [
    "y_test_pred_logReg = pd.Series(logReg.predict(X_test_scaled))"
   ]
  },
  {
   "cell_type": "markdown",
   "metadata": {},
   "source": [
    "### Decision Tree"
   ]
  },
  {
   "cell_type": "code",
   "execution_count": 66,
   "metadata": {
    "scrolled": true
   },
   "outputs": [],
   "source": [
    "# Step 1: import DecisionTreeClassifier\n",
    "from sklearn.tree import DecisionTreeClassifier\n",
    "# Step 2: Create an instance of the classifier\n",
    "tree = DecisionTreeClassifier(criterion='gini', max_depth=3, \n",
    "                              random_state=1)\n",
    "# Step 3: fit the model with training data.\n",
    "tree.fit(X_train, y_train)\n",
    "\n",
    "y_test_pred_tree = pd.Series(tree.predict(X_test))"
   ]
  },
  {
   "cell_type": "code",
   "execution_count": 67,
   "metadata": {},
   "outputs": [
    {
     "name": "stdout",
     "output_type": "stream",
     "text": [
      "Training accuracy: 0.9402985074626866\n",
      "Test accuracy: 0.9285714285714286\n"
     ]
    }
   ],
   "source": [
    "# Step 4: print out the accuarcy of training and test data\n",
    "print('Training accuracy:', tree.score(X_train, y_train))\n",
    "print('Test accuracy:', tree.score(X_test, y_test))\n"
   ]
  },
  {
   "cell_type": "markdown",
   "metadata": {},
   "source": [
    "### Model Evaluation"
   ]
  },
  {
   "cell_type": "code",
   "execution_count": 68,
   "metadata": {},
   "outputs": [
    {
     "name": "stdout",
     "output_type": "stream",
     "text": [
      "Linear Regression Accuracy\n",
      "Training score: 0.8372079726557339\n",
      "Test score:     0.7615821403941756\n",
      "Classification Report for Logistic Regression\n",
      "              precision    recall  f1-score   support\n",
      "\n",
      "   2k & over       0.94      0.90      0.92       138\n",
      "    Under 2k       0.93      0.96      0.95       198\n",
      "\n",
      "    accuracy                           0.93       336\n",
      "   macro avg       0.94      0.93      0.93       336\n",
      "weighted avg       0.93      0.93      0.93       336\n",
      "\n",
      "Classification Report for Decision Tree\n",
      "              precision    recall  f1-score   support\n",
      "\n",
      "   2k & over       0.94      0.88      0.91       138\n",
      "    Under 2k       0.92      0.96      0.94       198\n",
      "\n",
      "    accuracy                           0.93       336\n",
      "   macro avg       0.93      0.92      0.93       336\n",
      "weighted avg       0.93      0.93      0.93       336\n",
      "\n",
      "Classification Report for KNN\n",
      "              precision    recall  f1-score   support\n",
      "\n",
      "   2k & over       0.99      0.65      0.79       138\n",
      "    Under 2k       0.80      0.99      0.89       198\n",
      "\n",
      "    accuracy                           0.85       336\n",
      "   macro avg       0.90      0.82      0.84       336\n",
      "weighted avg       0.88      0.85      0.85       336\n",
      "\n"
     ]
    }
   ],
   "source": [
    "######################################################################\n",
    "# If your model is a classification problem, the score is the accuracy\n",
    "# If your model is a regression problem, then score is the R^2\n",
    "# Always check the meaning of 'score' of the model in sklearn documentation\n",
    "print('Linear Regression Accuracy')\n",
    "print('Training score:', linear_model.score(X_train1,y_train1))\n",
    "print('Test score:    ', linear_model.score(X_test1,y_test1))\n",
    "######################################################################\n",
    "######################################################################\n",
    "# For classification, if the data is not quite balanced, consider other metrics.\n",
    "# You should also consider the cost of misclassification to the positive or negative side\n",
    "# classification report has all the metrics. Logistic regression is used as example:\n",
    "print(\"Classification Report for Logistic Regression\")\n",
    "print(classification_report(y_test, y_test_pred_logReg, ))\n",
    "###\n",
    "####\n",
    "print(\"Classification Report for Decision Tree\")\n",
    "print(classification_report(y_test, y_test_pred_tree , )) \n",
    "###\n",
    "####\n",
    "print(\"Classification Report for KNN\")\n",
    "print(classification_report(y_test, y_test_pred_knn , )) \n",
    "\n",
    "\n"
   ]
  },
  {
   "cell_type": "markdown",
   "metadata": {},
   "source": [
    "### Confusion Matrix"
   ]
  },
  {
   "cell_type": "code",
   "execution_count": 69,
   "metadata": {},
   "outputs": [
    {
     "data": {
      "image/png": "[encoded data removed]",
      "text/plain": [
       "<Figure size 180x180 with 1 Axes>"
      ]
     },
     "metadata": {},
     "output_type": "display_data"
    },
    {
     "data": {
      "image/png": "[encoded data removed]",
      "text/plain": [
       "<Figure size 180x180 with 1 Axes>"
      ]
     },
     "metadata": {},
     "output_type": "display_data"
    },
    {
     "data": {
      "image/png": "[encoded data removed]",
      "text/plain": [
       "<Figure size 180x180 with 1 Axes>"
      ]
     },
     "metadata": {},
     "output_type": "display_data"
    }
   ],
   "source": [
    "\n",
    "from sklearn.metrics import confusion_matrix\n",
    "def plot_confusion_matrix(confmat, title):\n",
    "    fig, ax = plt.subplots(figsize=(2.5, 2.5),facecolor='w')\n",
    "    ax.matshow(confmat, cmap=plt.cm.Blues, alpha=0.6)\n",
    "    for i in range(confmat.shape[0]):\n",
    "        for j in range(confmat.shape[1]):\n",
    "            ax.text(x=j, y=i,s=confmat[i, j], va='center', ha='center')\n",
    "    plt.xlabel('Predicted Class', labelpad=10)\n",
    "    plt.ylabel('Actual Class')\n",
    "    plt.title(title, pad=20)\n",
    "    plt.show()\n",
    "confusion_tree = confusion_matrix(y_test, y_test_pred_tree)\n",
    "confusion_logReg = confusion_matrix(y_test, y_test_pred_logReg)\n",
    "confusion_knn = confusion_matrix(y_test, y_test_pred_knn)\n",
    "\n",
    "plot_confusion_matrix(confusion_tree, \"Decision Tree Model\")\n",
    "plot_confusion_matrix(confusion_logReg, \"Logistic Regression Model\")\n",
    "plot_confusion_matrix(confusion_knn, \"KNN Model\")"
   ]
  },
  {
   "cell_type": "markdown",
   "metadata": {},
   "source": [
    "## Decision Tree Visualization"
   ]
  },
  {
   "cell_type": "code",
   "execution_count": 70,
   "metadata": {},
   "outputs": [],
   "source": [
    "from sklearn.tree import export_text"
   ]
  },
  {
   "cell_type": "code",
   "execution_count": 71,
   "metadata": {},
   "outputs": [],
   "source": [
    "tree_rules = export_text(tree, feature_names=list(X_train.columns))"
   ]
  },
  {
   "cell_type": "code",
   "execution_count": 72,
   "metadata": {
    "scrolled": false
   },
   "outputs": [
    {
     "name": "stdout",
     "output_type": "stream",
     "text": [
      "|--- rating_count <= 566.50\n",
      "|   |--- rating_count <= 295.50\n",
      "|   |   |--- rating_count <= 191.50\n",
      "|   |   |   |--- class: Under 2k\n",
      "|   |   |--- rating_count >  191.50\n",
      "|   |   |   |--- class: Under 2k\n",
      "|   |--- rating_count >  295.50\n",
      "|   |   |--- retail_price <= 5.50\n",
      "|   |   |   |--- class: 2k & over\n",
      "|   |   |--- retail_price >  5.50\n",
      "|   |   |   |--- class: Under 2k\n",
      "|--- rating_count >  566.50\n",
      "|   |--- rating_count <= 710.50\n",
      "|   |   |--- retail_price <= 6.50\n",
      "|   |   |   |--- class: 2k & over\n",
      "|   |   |--- retail_price >  6.50\n",
      "|   |   |   |--- class: Under 2k\n",
      "|   |--- rating_count >  710.50\n",
      "|   |   |--- rating_count <= 938.50\n",
      "|   |   |   |--- class: 2k & over\n",
      "|   |   |--- rating_count >  938.50\n",
      "|   |   |   |--- class: 2k & over\n",
      "\n"
     ]
    }
   ],
   "source": [
    "print(tree_rules)"
   ]
  },
  {
   "cell_type": "code",
   "execution_count": 73,
   "metadata": {
    "scrolled": false
   },
   "outputs": [
    {
     "data": {
      "image/png": "[encoded data removed]",
      "text/plain": [
       "<Figure size 1800x864 with 1 Axes>"
      ]
     },
     "metadata": {},
     "output_type": "display_data"
    }
   ],
   "source": [
    "from sklearn.tree import plot_tree\n",
    "\n",
    "plt.figure(figsize=(25, 12), facecolor='k')\n",
    "\n",
    "\n",
    "plot_tree(tree, filled=True, rounded=True, feature_names=X.columns, label='root',\n",
    "\n",
    "class_names=['Under 2k', '2k & over'], proportion=False, fontsize=10,\n",
    "\n",
    "precision=2, impurity=False)\n",
    "\n",
    "plt.show()\n"
   ]
  }
 ],
 "metadata": {
  "kernelspec": {
   "display_name": "Python 3",
   "language": "python",
   "name": "python3"
  },
  "language_info": {
   "codemirror_mode": {
    "name": "ipython",
    "version": 3
   },
   "file_extension": ".py",
   "mimetype": "text/x-python",
   "name": "python",
   "nbconvert_exporter": "python",
   "pygments_lexer": "ipython3",
   "version": "3.8.3"
  }
 },
 "nbformat": 4,
 "nbformat_minor": 2
}
